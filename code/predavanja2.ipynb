{
 "cells": [
  {
   "cell_type": "markdown",
   "id": "21f7b99e",
   "metadata": {},
   "source": [
    "## Numbers"
   ]
  },
  {
   "cell_type": "code",
   "execution_count": 101,
   "id": "71cb4f8d",
   "metadata": {},
   "outputs": [
    {
     "data": {
      "text/plain": [
       "14.0"
      ]
     },
     "execution_count": 101,
     "metadata": {},
     "output_type": "execute_result"
    }
   ],
   "source": [
    "celo = 10\n",
    "decimalno = 4.0\n",
    "vsota = celo + decimalno\n",
    "vsota"
   ]
  },
  {
   "cell_type": "code",
   "execution_count": 102,
   "id": "1d04fa39",
   "metadata": {},
   "outputs": [
    {
     "data": {
      "text/plain": [
       "float"
      ]
     },
     "execution_count": 102,
     "metadata": {},
     "output_type": "execute_result"
    }
   ],
   "source": [
    "type(vsota)"
   ]
  },
  {
   "cell_type": "code",
   "execution_count": 105,
   "id": "bfae67b8",
   "metadata": {},
   "outputs": [
    {
     "data": {
      "text/plain": [
       "3"
      ]
     },
     "execution_count": 105,
     "metadata": {},
     "output_type": "execute_result"
    }
   ],
   "source": [
    "celo = 3\n",
    "celo"
   ]
  },
  {
   "cell_type": "markdown",
   "id": "bc6f48ab",
   "metadata": {},
   "source": [
    "#### Rounding decimal/float numbers"
   ]
  },
  {
   "cell_type": "code",
   "execution_count": 106,
   "id": "cb12d331",
   "metadata": {},
   "outputs": [
    {
     "data": {
      "text/plain": [
       "6"
      ]
     },
     "execution_count": 106,
     "metadata": {},
     "output_type": "execute_result"
    }
   ],
   "source": [
    "decimalno = 6.5437781\n",
    "int(decimalno)"
   ]
  },
  {
   "cell_type": "code",
   "execution_count": 107,
   "id": "74725159",
   "metadata": {},
   "outputs": [
    {
     "data": {
      "text/plain": [
       "7"
      ]
     },
     "execution_count": 107,
     "metadata": {},
     "output_type": "execute_result"
    }
   ],
   "source": [
    "round(decimalno)"
   ]
  },
  {
   "cell_type": "code",
   "execution_count": 111,
   "id": "dd6710b4",
   "metadata": {},
   "outputs": [
    {
     "data": {
      "text/plain": [
       "6.5437781"
      ]
     },
     "execution_count": 111,
     "metadata": {},
     "output_type": "execute_result"
    }
   ],
   "source": [
    "round(decimalno, 3)"
   ]
  },
  {
   "cell_type": "markdown",
   "id": "1080389e",
   "metadata": {},
   "source": [
    "#### Conversion from strings"
   ]
  },
  {
   "cell_type": "code",
   "execution_count": 117,
   "id": "cde579bf",
   "metadata": {},
   "outputs": [],
   "source": [
    "stevilo_niz = \"4.45aa\""
   ]
  },
  {
   "cell_type": "code",
   "execution_count": 114,
   "id": "8ee44ea9",
   "metadata": {},
   "outputs": [
    {
     "data": {
      "text/plain": [
       "str"
      ]
     },
     "execution_count": 114,
     "metadata": {},
     "output_type": "execute_result"
    }
   ],
   "source": [
    "type(\"4\")"
   ]
  },
  {
   "cell_type": "code",
   "execution_count": 118,
   "id": "4ddca9fe",
   "metadata": {
    "collapsed": true
   },
   "outputs": [
    {
     "ename": "ValueError",
     "evalue": "could not convert string to float: '4.45aa'",
     "output_type": "error",
     "traceback": [
      "\u001b[1;31m---------------------------------------------------------------------------\u001b[0m",
      "\u001b[1;31mValueError\u001b[0m                                Traceback (most recent call last)",
      "\u001b[1;32m<ipython-input-118-69007e67ae4c>\u001b[0m in \u001b[0;36m<module>\u001b[1;34m\u001b[0m\n\u001b[1;32m----> 1\u001b[1;33m \u001b[0mfloat\u001b[0m\u001b[1;33m(\u001b[0m\u001b[0mstevilo_niz\u001b[0m\u001b[1;33m)\u001b[0m\u001b[1;33m\u001b[0m\u001b[1;33m\u001b[0m\u001b[0m\n\u001b[0m",
      "\u001b[1;31mValueError\u001b[0m: could not convert string to float: '4.45aa'"
     ]
    }
   ],
   "source": [
    "float(stevilo_niz)"
   ]
  },
  {
   "cell_type": "code",
   "execution_count": 17,
   "id": "a420b4a8",
   "metadata": {
    "collapsed": true
   },
   "outputs": [
    {
     "ename": "ValueError",
     "evalue": "invalid literal for int() with base 10: '3.14'",
     "output_type": "error",
     "traceback": [
      "\u001b[1;31m---------------------------------------------------------------------------\u001b[0m",
      "\u001b[1;31mValueError\u001b[0m                                Traceback (most recent call last)",
      "\u001b[1;32m<ipython-input-17-ee2d1c8dba07>\u001b[0m in \u001b[0;36m<module>\u001b[1;34m\u001b[0m\n\u001b[0;32m      1\u001b[0m \u001b[0mstevilo_decimalno_niz\u001b[0m \u001b[1;33m=\u001b[0m \u001b[1;34m\"3.14\"\u001b[0m\u001b[1;33m\u001b[0m\u001b[1;33m\u001b[0m\u001b[0m\n\u001b[1;32m----> 2\u001b[1;33m \u001b[0mint\u001b[0m\u001b[1;33m(\u001b[0m\u001b[0mstevilo_decimalno_niz\u001b[0m\u001b[1;33m)\u001b[0m\u001b[1;33m\u001b[0m\u001b[1;33m\u001b[0m\u001b[0m\n\u001b[0m",
      "\u001b[1;31mValueError\u001b[0m: invalid literal for int() with base 10: '3.14'"
     ]
    }
   ],
   "source": [
    "stevilo_decimalno_niz = \"3.14\"\n",
    "int(stevilo_decimalno_niz)"
   ]
  },
  {
   "cell_type": "code",
   "execution_count": 16,
   "id": "537dfdde",
   "metadata": {
    "collapsed": true
   },
   "outputs": [
    {
     "data": {
      "text/plain": [
       "3.14"
      ]
     },
     "execution_count": 16,
     "metadata": {},
     "output_type": "execute_result"
    }
   ],
   "source": [
    "float(stevilo_decimalno_niz)"
   ]
  },
  {
   "cell_type": "markdown",
   "id": "b47ac8a5",
   "metadata": {},
   "source": [
    "#### Operators"
   ]
  },
  {
   "cell_type": "code",
   "execution_count": 119,
   "id": "dd37d2d0",
   "metadata": {},
   "outputs": [
    {
     "data": {
      "text/plain": [
       "6"
      ]
     },
     "execution_count": 119,
     "metadata": {},
     "output_type": "execute_result"
    }
   ],
   "source": [
    "4 + 2"
   ]
  },
  {
   "cell_type": "code",
   "execution_count": 120,
   "id": "d4f0a6ed",
   "metadata": {},
   "outputs": [
    {
     "data": {
      "text/plain": [
       "-1"
      ]
     },
     "execution_count": 120,
     "metadata": {},
     "output_type": "execute_result"
    }
   ],
   "source": [
    "4 - 5"
   ]
  },
  {
   "cell_type": "code",
   "execution_count": 121,
   "id": "94baf9c1",
   "metadata": {},
   "outputs": [
    {
     "data": {
      "text/plain": [
       "16"
      ]
     },
     "execution_count": 121,
     "metadata": {},
     "output_type": "execute_result"
    }
   ],
   "source": [
    "4 * 4"
   ]
  },
  {
   "cell_type": "code",
   "execution_count": 122,
   "id": "1229fb2f",
   "metadata": {},
   "outputs": [
    {
     "data": {
      "text/plain": [
       "1.6666666666666667"
      ]
     },
     "execution_count": 122,
     "metadata": {},
     "output_type": "execute_result"
    }
   ],
   "source": [
    "5 / 3"
   ]
  },
  {
   "cell_type": "code",
   "execution_count": 125,
   "id": "9c904d1e",
   "metadata": {},
   "outputs": [
    {
     "data": {
      "text/plain": [
       "2"
      ]
     },
     "execution_count": 125,
     "metadata": {},
     "output_type": "execute_result"
    }
   ],
   "source": [
    "7 // 3"
   ]
  },
  {
   "cell_type": "code",
   "execution_count": 126,
   "id": "646d4562",
   "metadata": {},
   "outputs": [
    {
     "data": {
      "text/plain": [
       "0"
      ]
     },
     "execution_count": 126,
     "metadata": {},
     "output_type": "execute_result"
    }
   ],
   "source": [
    "2 // 3"
   ]
  },
  {
   "cell_type": "code",
   "execution_count": 128,
   "id": "3a1baebe",
   "metadata": {},
   "outputs": [
    {
     "data": {
      "text/plain": [
       "256"
      ]
     },
     "execution_count": 128,
     "metadata": {},
     "output_type": "execute_result"
    }
   ],
   "source": [
    "4 ** 4"
   ]
  },
  {
   "cell_type": "code",
   "execution_count": 129,
   "id": "b03b3d03",
   "metadata": {},
   "outputs": [
    {
     "data": {
      "text/plain": [
       "0"
      ]
     },
     "execution_count": 129,
     "metadata": {},
     "output_type": "execute_result"
    }
   ],
   "source": [
    "12 % 4"
   ]
  },
  {
   "cell_type": "code",
   "execution_count": 131,
   "id": "e4e733a5",
   "metadata": {},
   "outputs": [
    {
     "data": {
      "text/plain": [
       "3"
      ]
     },
     "execution_count": 131,
     "metadata": {},
     "output_type": "execute_result"
    }
   ],
   "source": [
    "13 % 5"
   ]
  },
  {
   "cell_type": "code",
   "execution_count": 132,
   "id": "ccaa061c",
   "metadata": {},
   "outputs": [
    {
     "data": {
      "text/plain": [
       "3"
      ]
     },
     "execution_count": 132,
     "metadata": {},
     "output_type": "execute_result"
    }
   ],
   "source": [
    "15 // 4"
   ]
  },
  {
   "cell_type": "code",
   "execution_count": 133,
   "id": "755ca63c",
   "metadata": {},
   "outputs": [
    {
     "data": {
      "text/plain": [
       "4"
      ]
     },
     "execution_count": 133,
     "metadata": {},
     "output_type": "execute_result"
    }
   ],
   "source": [
    "16 // 4"
   ]
  },
  {
   "cell_type": "markdown",
   "id": "99cd73dd",
   "metadata": {},
   "source": [
    "#### Comparisaon operators"
   ]
  },
  {
   "cell_type": "code",
   "execution_count": 135,
   "id": "204b7788",
   "metadata": {},
   "outputs": [
    {
     "data": {
      "text/plain": [
       "True"
      ]
     },
     "execution_count": 135,
     "metadata": {},
     "output_type": "execute_result"
    }
   ],
   "source": [
    "1 == 2\n",
    "1 == 1"
   ]
  },
  {
   "cell_type": "code",
   "execution_count": 137,
   "id": "ffc387ba",
   "metadata": {},
   "outputs": [
    {
     "data": {
      "text/plain": [
       "False"
      ]
     },
     "execution_count": 137,
     "metadata": {},
     "output_type": "execute_result"
    }
   ],
   "source": [
    "1 != 2\n",
    "1 != 1"
   ]
  },
  {
   "cell_type": "code",
   "execution_count": 140,
   "id": "157953e7",
   "metadata": {},
   "outputs": [
    {
     "data": {
      "text/plain": [
       "True"
      ]
     },
     "execution_count": 140,
     "metadata": {},
     "output_type": "execute_result"
    }
   ],
   "source": [
    "4 > 3\n",
    "4 > 4"
   ]
  },
  {
   "cell_type": "code",
   "execution_count": 142,
   "id": "8d43d9cc",
   "metadata": {},
   "outputs": [
    {
     "data": {
      "text/plain": [
       "True"
      ]
     },
     "execution_count": 142,
     "metadata": {},
     "output_type": "execute_result"
    }
   ],
   "source": [
    "4 >= 3\n",
    "4 >= 4"
   ]
  },
  {
   "cell_type": "markdown",
   "id": "ac159eba",
   "metadata": {},
   "source": [
    "#### Logical operators"
   ]
  },
  {
   "cell_type": "code",
   "execution_count": 146,
   "id": "a94196d1",
   "metadata": {},
   "outputs": [
    {
     "data": {
      "text/plain": [
       "True"
      ]
     },
     "execution_count": 146,
     "metadata": {},
     "output_type": "execute_result"
    }
   ],
   "source": [
    "1 and 1\n",
    "0 and 1\n",
    "0 and 0\n",
    "True and True"
   ]
  },
  {
   "cell_type": "code",
   "execution_count": 147,
   "id": "64828fec",
   "metadata": {},
   "outputs": [
    {
     "data": {
      "text/plain": [
       "False"
      ]
     },
     "execution_count": 147,
     "metadata": {},
     "output_type": "execute_result"
    }
   ],
   "source": [
    "rez = True and False\n",
    "rez"
   ]
  },
  {
   "cell_type": "code",
   "execution_count": 151,
   "id": "84765e90",
   "metadata": {},
   "outputs": [
    {
     "data": {
      "text/plain": [
       "0"
      ]
     },
     "execution_count": 151,
     "metadata": {},
     "output_type": "execute_result"
    }
   ],
   "source": [
    "1 or 0\n",
    "0 or 1\n",
    "1 or 1\n",
    "0 or 0"
   ]
  },
  {
   "cell_type": "code",
   "execution_count": 153,
   "id": "de850fab",
   "metadata": {},
   "outputs": [
    {
     "data": {
      "text/plain": [
       "True"
      ]
     },
     "execution_count": 153,
     "metadata": {},
     "output_type": "execute_result"
    }
   ],
   "source": [
    "not 1\n",
    "not 0"
   ]
  },
  {
   "cell_type": "code",
   "execution_count": 156,
   "id": "4f4ac1dd",
   "metadata": {},
   "outputs": [
    {
     "data": {
      "text/plain": [
       "False"
      ]
     },
     "execution_count": 156,
     "metadata": {},
     "output_type": "execute_result"
    }
   ],
   "source": [
    "(1 == 1) or (1 == 0)\n",
    "(1 == 0) or ((1 == 0))"
   ]
  },
  {
   "cell_type": "code",
   "execution_count": 162,
   "id": "3cb33b3b",
   "metadata": {},
   "outputs": [
    {
     "data": {
      "text/plain": [
       "True"
      ]
     },
     "execution_count": 162,
     "metadata": {},
     "output_type": "execute_result"
    }
   ],
   "source": [
    "x = 10\n",
    "rez = x > 3 and x <= 10  # Preverimo če velja 3 < x < 10\n",
    "rez"
   ]
  },
  {
   "cell_type": "markdown",
   "id": "5e7b4c84",
   "metadata": {},
   "source": [
    "## Lists"
   ]
  },
  {
   "cell_type": "markdown",
   "id": "876bf758",
   "metadata": {},
   "source": [
    "#### Initialization"
   ]
  },
  {
   "cell_type": "code",
   "execution_count": 173,
   "id": "c2da48f0",
   "metadata": {},
   "outputs": [
    {
     "data": {
      "text/plain": [
       "[]"
      ]
     },
     "execution_count": 173,
     "metadata": {},
     "output_type": "execute_result"
    }
   ],
   "source": [
    "sez = [] \n",
    "sez"
   ]
  },
  {
   "cell_type": "markdown",
   "id": "e3519d2f",
   "metadata": {},
   "source": [
    "#### Adding elements"
   ]
  },
  {
   "cell_type": "code",
   "execution_count": 175,
   "id": "79e05430",
   "metadata": {},
   "outputs": [
    {
     "data": {
      "text/plain": [
       "[1, 2, 3]"
      ]
     },
     "execution_count": 175,
     "metadata": {},
     "output_type": "execute_result"
    }
   ],
   "source": [
    "sez = []\n",
    "sez.append(1)\n",
    "sez.append(2)\n",
    "sez.append(3)\n",
    "sez"
   ]
  },
  {
   "cell_type": "markdown",
   "id": "b9c8bbf2",
   "metadata": {},
   "source": [
    "#### Fetching & changing elements"
   ]
  },
  {
   "cell_type": "code",
   "execution_count": 194,
   "id": "9683d601",
   "metadata": {},
   "outputs": [],
   "source": [
    "sez = [1, 3, 13, \"Jaz\", 3.14, 5]"
   ]
  },
  {
   "cell_type": "code",
   "execution_count": 190,
   "id": "30ec77e2",
   "metadata": {},
   "outputs": [
    {
     "data": {
      "text/plain": [
       "1"
      ]
     },
     "execution_count": 190,
     "metadata": {},
     "output_type": "execute_result"
    }
   ],
   "source": []
  },
  {
   "cell_type": "code",
   "execution_count": 50,
   "id": "2377ebd9",
   "metadata": {},
   "outputs": [
    {
     "ename": "IndexError",
     "evalue": "list index out of range",
     "output_type": "error",
     "traceback": [
      "\u001b[1;31m---------------------------------------------------------------------------\u001b[0m",
      "\u001b[1;31mIndexError\u001b[0m                                Traceback (most recent call last)",
      "\u001b[1;32m<ipython-input-50-a47565d5ff5a>\u001b[0m in \u001b[0;36m<module>\u001b[1;34m\u001b[0m\n\u001b[1;32m----> 1\u001b[1;33m \u001b[0msez\u001b[0m\u001b[1;33m[\u001b[0m\u001b[1;36m5\u001b[0m\u001b[1;33m]\u001b[0m\u001b[1;33m\u001b[0m\u001b[1;33m\u001b[0m\u001b[0m\n\u001b[0m",
      "\u001b[1;31mIndexError\u001b[0m: list index out of range"
     ]
    }
   ],
   "source": [
    "sez[5]"
   ]
  },
  {
   "cell_type": "code",
   "execution_count": 184,
   "id": "491492d3",
   "metadata": {},
   "outputs": [
    {
     "data": {
      "text/plain": [
       "6"
      ]
     },
     "execution_count": 184,
     "metadata": {},
     "output_type": "execute_result"
    }
   ],
   "source": [
    "dol = len(sez)\n",
    "dol"
   ]
  },
  {
   "cell_type": "code",
   "execution_count": 196,
   "id": "6c4445fb",
   "metadata": {},
   "outputs": [
    {
     "data": {
      "text/plain": [
       "[1, 3, 13, 'Jaz', 'Karkoli', 5]"
      ]
     },
     "execution_count": 196,
     "metadata": {},
     "output_type": "execute_result"
    }
   ],
   "source": [
    "sez[4] = \"Karkoli\"\n",
    "sez"
   ]
  },
  {
   "cell_type": "markdown",
   "id": "c7645ec9",
   "metadata": {},
   "source": [
    "#### Removing elements"
   ]
  },
  {
   "cell_type": "code",
   "execution_count": 200,
   "id": "1ec85c85",
   "metadata": {},
   "outputs": [
    {
     "data": {
      "text/plain": [
       "6"
      ]
     },
     "execution_count": 200,
     "metadata": {},
     "output_type": "execute_result"
    }
   ],
   "source": [
    "sez = [0, 1, 2, 3, 4, 5]\n",
    "len(sez)"
   ]
  },
  {
   "cell_type": "code",
   "execution_count": 202,
   "id": "dd8d22f8",
   "metadata": {},
   "outputs": [
    {
     "data": {
      "text/plain": [
       "(0, [1, 2, 3, 4, 5])"
      ]
     },
     "execution_count": 202,
     "metadata": {},
     "output_type": "execute_result"
    }
   ],
   "source": [
    "sez = [0, 1, 2, 3, 4, 5]\n",
    "odstranjen = sez.pop(0)\n",
    "odstranjen, sez"
   ]
  },
  {
   "cell_type": "code",
   "execution_count": 203,
   "id": "4b9ec701",
   "metadata": {},
   "outputs": [
    {
     "data": {
      "text/plain": [
       "[2, 3, 4, 5]"
      ]
     },
     "execution_count": 203,
     "metadata": {},
     "output_type": "execute_result"
    }
   ],
   "source": [
    "del sez[0]\n",
    "sez"
   ]
  },
  {
   "cell_type": "markdown",
   "id": "a79def16",
   "metadata": {},
   "source": [
    "#### Lists are mutable"
   ]
  },
  {
   "cell_type": "code",
   "execution_count": 209,
   "id": "b47bd9ff",
   "metadata": {},
   "outputs": [
    {
     "data": {
      "text/plain": [
       "[1, 2, 3, 4]"
      ]
     },
     "execution_count": 209,
     "metadata": {},
     "output_type": "execute_result"
    }
   ],
   "source": [
    "primer = [1, 2, 3, 4]\n",
    "kopija = primer\n",
    "kopija"
   ]
  },
  {
   "cell_type": "code",
   "execution_count": 206,
   "id": "2ea21708",
   "metadata": {},
   "outputs": [
    {
     "data": {
      "text/plain": [
       "[1, 2, 'Sprememba!', 4]"
      ]
     },
     "execution_count": 206,
     "metadata": {},
     "output_type": "execute_result"
    }
   ],
   "source": [
    "kopija[2] = \"Sprememba!\"\n",
    "kopija"
   ]
  },
  {
   "cell_type": "code",
   "execution_count": 207,
   "id": "3ed96cfd",
   "metadata": {},
   "outputs": [
    {
     "data": {
      "text/plain": [
       "[1, 2, 'Sprememba!', 4]"
      ]
     },
     "execution_count": 207,
     "metadata": {},
     "output_type": "execute_result"
    }
   ],
   "source": [
    "primer"
   ]
  },
  {
   "cell_type": "code",
   "execution_count": 210,
   "id": "47721ead",
   "metadata": {},
   "outputs": [
    {
     "data": {
      "text/plain": [
       "[1, 2, 3, 4]"
      ]
     },
     "execution_count": 210,
     "metadata": {},
     "output_type": "execute_result"
    }
   ],
   "source": [
    "ni_isti = primer.copy()\n",
    "# ni_isti = list(primer)\n",
    "ni_isti"
   ]
  },
  {
   "cell_type": "code",
   "execution_count": 211,
   "id": "d9681088",
   "metadata": {},
   "outputs": [
    {
     "data": {
      "text/plain": [
       "[1, 2, 3, 4]"
      ]
     },
     "execution_count": 211,
     "metadata": {},
     "output_type": "execute_result"
    }
   ],
   "source": [
    "ni_isti[0] = \"Sprememba ... spet\"\n",
    "primer"
   ]
  },
  {
   "cell_type": "markdown",
   "id": "41b83d1b",
   "metadata": {},
   "source": [
    "#### Slicing"
   ]
  },
  {
   "cell_type": "code",
   "execution_count": 212,
   "id": "10632943",
   "metadata": {},
   "outputs": [],
   "source": [
    "primer = [0, 1, 2, 3, 4, 5, 6, 7, 8, 9]"
   ]
  },
  {
   "cell_type": "code",
   "execution_count": 227,
   "id": "12bd6132",
   "metadata": {},
   "outputs": [
    {
     "data": {
      "text/plain": [
       "[0, 2]"
      ]
     },
     "execution_count": 227,
     "metadata": {},
     "output_type": "execute_result"
    }
   ],
   "source": [
    "kop = primer[:4:2]\n",
    "kop"
   ]
  },
  {
   "cell_type": "markdown",
   "id": "71ba42b6",
   "metadata": {},
   "source": [
    "## Sets"
   ]
  },
  {
   "cell_type": "code",
   "execution_count": 234,
   "id": "26b286b3",
   "metadata": {},
   "outputs": [
    {
     "data": {
      "text/plain": [
       "set()"
      ]
     },
     "execution_count": 234,
     "metadata": {},
     "output_type": "execute_result"
    }
   ],
   "source": [
    "mnoz = set()\n",
    "mnoz"
   ]
  },
  {
   "cell_type": "code",
   "execution_count": 235,
   "id": "d6595aae",
   "metadata": {},
   "outputs": [
    {
     "data": {
      "text/plain": [
       "{2, 3, 4}"
      ]
     },
     "execution_count": 235,
     "metadata": {},
     "output_type": "execute_result"
    }
   ],
   "source": [
    "mnoz.add(4)\n",
    "mnoz.add(3)\n",
    "mnoz.add(2)\n",
    "mnoz.add(4)\n",
    "mnoz"
   ]
  },
  {
   "cell_type": "code",
   "execution_count": 236,
   "id": "5e535441",
   "metadata": {},
   "outputs": [
    {
     "data": {
      "text/plain": [
       "{2, 3}"
      ]
     },
     "execution_count": 236,
     "metadata": {},
     "output_type": "execute_result"
    }
   ],
   "source": [
    "mnoz.remove(4)\n",
    "mnoz"
   ]
  },
  {
   "cell_type": "code",
   "execution_count": 237,
   "id": "1c3031c7",
   "metadata": {},
   "outputs": [
    {
     "data": {
      "text/plain": [
       "{1, 2, 3, 4, 5, 6}"
      ]
     },
     "execution_count": 237,
     "metadata": {},
     "output_type": "execute_result"
    }
   ],
   "source": [
    "sez = [1, 2, 3, 4, 5, 6, 5, 6, 1, 1, 1, 1, 1]\n",
    "mnoz = set(sez)\n",
    "mnoz"
   ]
  },
  {
   "cell_type": "code",
   "execution_count": 238,
   "id": "4ef4eee2",
   "metadata": {},
   "outputs": [
    {
     "data": {
      "text/plain": [
       "[1, 2, 3, 4, 5, 6]"
      ]
     },
     "execution_count": 238,
     "metadata": {},
     "output_type": "execute_result"
    }
   ],
   "source": [
    "brez_duplikatov = list(set(sez))\n",
    "brez_duplikatov"
   ]
  },
  {
   "cell_type": "markdown",
   "id": "27ac84ae",
   "metadata": {},
   "source": [
    "## Dictionaries"
   ]
  },
  {
   "cell_type": "markdown",
   "id": "cadae5ad",
   "metadata": {},
   "source": [
    "#### Initialization"
   ]
  },
  {
   "cell_type": "code",
   "execution_count": 241,
   "id": "1566f4c8",
   "metadata": {},
   "outputs": [
    {
     "data": {
      "text/plain": [
       "{'kljuc1': 1, 'kljuc2': 2}"
      ]
     },
     "execution_count": 241,
     "metadata": {},
     "output_type": "execute_result"
    }
   ],
   "source": [
    "slovar = {}\n",
    "slovar = dict()\n",
    "slovar = {\"kljuc1\": 1, \"kljuc2\": 2}\n",
    "slovar"
   ]
  },
  {
   "cell_type": "markdown",
   "id": "4373d481",
   "metadata": {},
   "source": [
    "#### Adding key-value pairs"
   ]
  },
  {
   "cell_type": "code",
   "execution_count": 245,
   "id": "e64e68ce",
   "metadata": {},
   "outputs": [
    {
     "data": {
      "text/plain": [
       "{'kljuc1': 1, 'kljuc2': 2, 'Novi_Ključ': 100}"
      ]
     },
     "execution_count": 245,
     "metadata": {},
     "output_type": "execute_result"
    }
   ],
   "source": [
    "slovar[\"Novi_Ključ\"] = \"Wohoo\"\n",
    "slovar[\"Novi_Ključ\"] = 100\n",
    "slovar"
   ]
  },
  {
   "cell_type": "markdown",
   "id": "1545e23c",
   "metadata": {},
   "source": [
    "#### Reading values by key"
   ]
  },
  {
   "cell_type": "code",
   "execution_count": 250,
   "id": "3a1084e0",
   "metadata": {},
   "outputs": [
    {
     "data": {
      "text/plain": [
       "{1: 15, 'Jan': 22, 'Mateja': 23, 'Anuška': 33, 'Luka': 29}"
      ]
     },
     "execution_count": 250,
     "metadata": {},
     "output_type": "execute_result"
    }
   ],
   "source": [
    "starosti = {1: 15, \"Jan\": 22, \"Mateja\": 23, \"Anuška\": 33, \"Luka\": 29}\n",
    "starosti"
   ]
  },
  {
   "cell_type": "code",
   "execution_count": 252,
   "id": "6697ffbe",
   "metadata": {},
   "outputs": [
    {
     "data": {
      "text/plain": [
       "15"
      ]
     },
     "execution_count": 252,
     "metadata": {},
     "output_type": "execute_result"
    }
   ],
   "source": [
    "st_jaka = starosti[1]\n",
    "st_jaka"
   ]
  },
  {
   "cell_type": "code",
   "execution_count": 248,
   "id": "50c3066e",
   "metadata": {},
   "outputs": [
    {
     "ename": "KeyError",
     "evalue": "'Človek'",
     "output_type": "error",
     "traceback": [
      "\u001b[1;31m---------------------------------------------------------------------------\u001b[0m",
      "\u001b[1;31mKeyError\u001b[0m                                  Traceback (most recent call last)",
      "\u001b[1;32m<ipython-input-248-215b104609bc>\u001b[0m in \u001b[0;36m<module>\u001b[1;34m\u001b[0m\n\u001b[1;32m----> 1\u001b[1;33m \u001b[0mstarosti\u001b[0m\u001b[1;33m[\u001b[0m\u001b[1;34m\"Človek\"\u001b[0m\u001b[1;33m]\u001b[0m\u001b[1;33m\u001b[0m\u001b[1;33m\u001b[0m\u001b[0m\n\u001b[0m",
      "\u001b[1;31mKeyError\u001b[0m: 'Človek'"
     ]
    }
   ],
   "source": [
    "starosti[\"Človek\"]"
   ]
  },
  {
   "cell_type": "markdown",
   "id": "84a70a91",
   "metadata": {},
   "source": [
    "#### Changing values"
   ]
  },
  {
   "cell_type": "code",
   "execution_count": 253,
   "id": "e15265e8",
   "metadata": {},
   "outputs": [
    {
     "data": {
      "text/plain": [
       "{'Jaka': 15, 'Jan': 22, 'Mateja': 23, 'Anuška': 33, 'Luka': 29}"
      ]
     },
     "execution_count": 253,
     "metadata": {},
     "output_type": "execute_result"
    }
   ],
   "source": [
    "starosti = {\"Jaka\": 15, \"Jan\": 22, \"Mateja\": 23, \"Anuška\": 33, \"Luka\": 29}\n",
    "starosti"
   ]
  },
  {
   "cell_type": "code",
   "execution_count": 254,
   "id": "5aeb3eab",
   "metadata": {},
   "outputs": [
    {
     "data": {
      "text/plain": [
       "{'Jaka': 21, 'Jan': 22, 'Mateja': 23, 'Anuška': 33, 'Luka': 29}"
      ]
     },
     "execution_count": 254,
     "metadata": {},
     "output_type": "execute_result"
    }
   ],
   "source": [
    "starosti[\"Jaka\"] = 21\n",
    "starosti"
   ]
  },
  {
   "cell_type": "markdown",
   "id": "17878a87",
   "metadata": {},
   "source": [
    "#### Grabbing keys and values"
   ]
  },
  {
   "cell_type": "code",
   "execution_count": 255,
   "id": "178a88c3",
   "metadata": {},
   "outputs": [],
   "source": [
    "starosti = {\"Jaka\": 15, \"Jan\": 22, \"Mateja\": 23, \"Anuška\": 33, \"Luka\": 29}"
   ]
  },
  {
   "cell_type": "code",
   "execution_count": 256,
   "id": "9df5f9bd",
   "metadata": {},
   "outputs": [
    {
     "data": {
      "text/plain": [
       "dict_keys(['Jaka', 'Jan', 'Mateja', 'Anuška', 'Luka'])"
      ]
     },
     "execution_count": 256,
     "metadata": {},
     "output_type": "execute_result"
    }
   ],
   "source": [
    "starosti.keys()"
   ]
  },
  {
   "cell_type": "code",
   "execution_count": 257,
   "id": "5938fcd1",
   "metadata": {},
   "outputs": [
    {
     "data": {
      "text/plain": [
       "['Jaka', 'Jan', 'Mateja', 'Anuška', 'Luka']"
      ]
     },
     "execution_count": 257,
     "metadata": {},
     "output_type": "execute_result"
    }
   ],
   "source": [
    "list(starosti.keys())"
   ]
  },
  {
   "cell_type": "code",
   "execution_count": 258,
   "id": "21f77f45",
   "metadata": {},
   "outputs": [
    {
     "data": {
      "text/plain": [
       "dict_values([15, 22, 23, 33, 29])"
      ]
     },
     "execution_count": 258,
     "metadata": {},
     "output_type": "execute_result"
    }
   ],
   "source": [
    "starosti.values()"
   ]
  },
  {
   "cell_type": "code",
   "execution_count": 259,
   "id": "dc1fd4bd",
   "metadata": {},
   "outputs": [
    {
     "data": {
      "text/plain": [
       "[15, 22, 23, 33, 29]"
      ]
     },
     "execution_count": 259,
     "metadata": {},
     "output_type": "execute_result"
    }
   ],
   "source": [
    "list(starosti.values())"
   ]
  },
  {
   "cell_type": "code",
   "execution_count": 5,
   "id": "3b727d94",
   "metadata": {},
   "outputs": [
    {
     "data": {
      "text/plain": [
       "[1, 2, 3, 4, 5, 6]"
      ]
     },
     "execution_count": 5,
     "metadata": {},
     "output_type": "execute_result"
    }
   ],
   "source": [
    "tup = (1, 2, 3)\n",
    "\n",
    "tup = (4,)"
   ]
  },
  {
   "cell_type": "markdown",
   "id": "bc0e754f",
   "metadata": {},
   "source": [
    "## Membership operators"
   ]
  },
  {
   "cell_type": "code",
   "execution_count": 11,
   "id": "e63a4a10",
   "metadata": {},
   "outputs": [
    {
     "data": {
      "text/plain": [
       "[0, 1, 2, 3, 4, 5]"
      ]
     },
     "execution_count": 11,
     "metadata": {},
     "output_type": "execute_result"
    }
   ],
   "source": [
    "sez = [0, 1, 2, 3, 4, 5]\n",
    "sez"
   ]
  },
  {
   "cell_type": "code",
   "execution_count": 10,
   "id": "5cd267d9",
   "metadata": {},
   "outputs": [
    {
     "data": {
      "text/plain": [
       "True"
      ]
     },
     "execution_count": 10,
     "metadata": {},
     "output_type": "execute_result"
    }
   ],
   "source": [
    "# 1 in sez\n",
    "10 in sez"
   ]
  },
  {
   "cell_type": "code",
   "execution_count": 14,
   "id": "c7f6dae8",
   "metadata": {},
   "outputs": [
    {
     "data": {
      "text/plain": [
       "True"
      ]
     },
     "execution_count": 14,
     "metadata": {},
     "output_type": "execute_result"
    }
   ],
   "source": [
    "10 not in sez"
   ]
  },
  {
   "cell_type": "code",
   "execution_count": 16,
   "id": "af5edaf6",
   "metadata": {},
   "outputs": [
    {
     "data": {
      "text/plain": [
       "{'Jaka': 2, 'Janez': 4, 'Metka': 10}"
      ]
     },
     "execution_count": 16,
     "metadata": {},
     "output_type": "execute_result"
    }
   ],
   "source": [
    "slov = {\"Jaka\": 2, \"Janez\": 4, \"Metka\": 10}\n",
    "slov"
   ]
  },
  {
   "cell_type": "code",
   "execution_count": 18,
   "id": "9598b470",
   "metadata": {},
   "outputs": [
    {
     "data": {
      "text/plain": [
       "False"
      ]
     },
     "execution_count": 18,
     "metadata": {},
     "output_type": "execute_result"
    }
   ],
   "source": [
    "# \"Jaka\" in slov\n",
    "\"Matej\" in slov"
   ]
  },
  {
   "cell_type": "code",
   "execution_count": 19,
   "id": "4424203d",
   "metadata": {},
   "outputs": [
    {
     "data": {
      "text/plain": [
       "False"
      ]
     },
     "execution_count": 19,
     "metadata": {},
     "output_type": "execute_result"
    }
   ],
   "source": [
    "4 in slov"
   ]
  },
  {
   "cell_type": "code",
   "execution_count": 20,
   "id": "e89c4039",
   "metadata": {},
   "outputs": [
    {
     "data": {
      "text/plain": [
       "True"
      ]
     },
     "execution_count": 20,
     "metadata": {},
     "output_type": "execute_result"
    }
   ],
   "source": [
    "4 in slov.values()"
   ]
  },
  {
   "cell_type": "code",
   "execution_count": 22,
   "id": "1ccc7ca0",
   "metadata": {},
   "outputs": [
    {
     "data": {
      "text/plain": [
       "'Š'"
      ]
     },
     "execution_count": 22,
     "metadata": {},
     "output_type": "execute_result"
    }
   ],
   "source": [
    "niz = \"K Š O K\"\n",
    "niz[1]"
   ]
  },
  {
   "cell_type": "code",
   "execution_count": 1,
   "id": "7986396e",
   "metadata": {},
   "outputs": [
    {
     "data": {
      "text/plain": [
       "True"
      ]
     },
     "execution_count": 1,
     "metadata": {},
     "output_type": "execute_result"
    }
   ],
   "source": [
    "\"K\" in \"KŠOK\""
   ]
  },
  {
   "cell_type": "code",
   "execution_count": 26,
   "id": "133795cf",
   "metadata": {},
   "outputs": [
    {
     "data": {
      "text/plain": [
       "True"
      ]
     },
     "execution_count": 26,
     "metadata": {},
     "output_type": "execute_result"
    }
   ],
   "source": [
    "\"k\" in \"KŠOK\".lower()"
   ]
  },
  {
   "cell_type": "code",
   "execution_count": 27,
   "id": "0ae22117",
   "metadata": {},
   "outputs": [
    {
     "data": {
      "text/plain": [
       "'kšok'"
      ]
     },
     "execution_count": 27,
     "metadata": {},
     "output_type": "execute_result"
    }
   ],
   "source": [
    "sprem = \"KŠOK\"\n",
    "sprem.lower()"
   ]
  },
  {
   "cell_type": "code",
   "execution_count": 29,
   "id": "23c62a16",
   "metadata": {},
   "outputs": [
    {
     "data": {
      "text/plain": [
       "False"
      ]
     },
     "execution_count": 29,
     "metadata": {},
     "output_type": "execute_result"
    }
   ],
   "source": [
    "\"ŠO\" in \"KŠOK\""
   ]
  },
  {
   "cell_type": "markdown",
   "id": "ff737f34",
   "metadata": {},
   "source": [
    "#### Naloga\n",
    "Kako bi lahko preverili če določeno število (int ali float) vsebuje določeno števko?\n",
    "\n",
    "Npr. Število `412` vsebuje števko `2`, ne vsebuje pa `3`."
   ]
  },
  {
   "cell_type": "code",
   "execution_count": 32,
   "id": "33184424",
   "metadata": {},
   "outputs": [
    {
     "data": {
      "text/plain": [
       "False"
      ]
     },
     "execution_count": 32,
     "metadata": {},
     "output_type": "execute_result"
    }
   ],
   "source": [
    "st = 412\n",
    "a = 5\n",
    "\n",
    "str(a) in str(st)"
   ]
  },
  {
   "cell_type": "code",
   "execution_count": null,
   "id": "12950bbf",
   "metadata": {},
   "outputs": [],
   "source": []
  }
 ],
 "metadata": {
  "kernelspec": {
   "display_name": "Python 3",
   "language": "python",
   "name": "python3"
  },
  "language_info": {
   "codemirror_mode": {
    "name": "ipython",
    "version": 3
   },
   "file_extension": ".py",
   "mimetype": "text/x-python",
   "name": "python",
   "nbconvert_exporter": "python",
   "pygments_lexer": "ipython3",
   "version": "3.8.8"
  }
 },
 "nbformat": 4,
 "nbformat_minor": 5
}
