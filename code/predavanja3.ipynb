{
 "cells": [
  {
   "cell_type": "markdown",
   "id": "1026963a",
   "metadata": {},
   "source": [
    "## Conditional statements"
   ]
  },
  {
   "cell_type": "markdown",
   "id": "c9fa3ef7",
   "metadata": {},
   "source": [
    "#### If"
   ]
  },
  {
   "cell_type": "code",
   "execution_count": 3,
   "id": "d08f0b10",
   "metadata": {},
   "outputs": [
    {
     "name": "stdout",
     "output_type": "stream",
     "text": [
      "Hello\n"
     ]
    }
   ],
   "source": [
    "if False:\n",
    "    # Naredi nekaj\n",
    "    print(\"Dela\")\n",
    "\n",
    "print(\"Hello\")"
   ]
  },
  {
   "cell_type": "markdown",
   "id": "5675df33",
   "metadata": {},
   "source": [
    "#### Else\n",
    "- Pride vedno po if izrazu\n",
    "- Se izvede le takrat, ko se noben od zgornjih pogojev ne izvede"
   ]
  },
  {
   "cell_type": "code",
   "execution_count": 5,
   "id": "eca86381",
   "metadata": {},
   "outputs": [
    {
     "ename": "SyntaxError",
     "evalue": "invalid syntax (<ipython-input-5-08072f636a27>, line 3)",
     "output_type": "error",
     "traceback": [
      "\u001b[1;36m  File \u001b[1;32m\"<ipython-input-5-08072f636a27>\"\u001b[1;36m, line \u001b[1;32m3\u001b[0m\n\u001b[1;33m    else:\u001b[0m\n\u001b[1;37m    ^\u001b[0m\n\u001b[1;31mSyntaxError\u001b[0m\u001b[1;31m:\u001b[0m invalid syntax\n"
     ]
    }
   ],
   "source": [
    "if False:\n",
    "    print(\"if se izvedel\")\n",
    "else:\n",
    "    print(\"else se izvedel\")"
   ]
  },
  {
   "cell_type": "markdown",
   "id": "c3bc6a39",
   "metadata": {},
   "source": [
    "#### Elif ali Else If\n",
    "- Nastopi po if in pred else\n",
    "- Enakovreden if stavku po funkcionalnosti\n",
    "- Za razliko od else potrebuje pogoj"
   ]
  },
  {
   "cell_type": "code",
   "execution_count": 10,
   "id": "d0251e55",
   "metadata": {},
   "outputs": [
    {
     "name": "stdout",
     "output_type": "stream",
     "text": [
      "if\n"
     ]
    }
   ],
   "source": [
    "if True:\n",
    "    print(\"if\")\n",
    "elif True:\n",
    "    print(\"elif\")"
   ]
  },
  {
   "cell_type": "code",
   "execution_count": 12,
   "id": "b1f0ce32",
   "metadata": {},
   "outputs": [
    {
     "name": "stdout",
     "output_type": "stream",
     "text": [
      "else\n"
     ]
    }
   ],
   "source": [
    "if False:\n",
    "    print(\"if\")\n",
    "elif False:\n",
    "    print(\"elif\")\n",
    "else:\n",
    "    print(\"else\")"
   ]
  },
  {
   "cell_type": "markdown",
   "id": "52563f45",
   "metadata": {},
   "source": [
    "#### Poljubno mnogo elif pogojev\n",
    "- Vedno se izvede le **EDEN** od pogojev\n",
    "- Rečemo, da deluje kot blok, ko eden od pogojev velja -> iztopimo iz bloka, če nobeden ne velja -> nastopi else"
   ]
  },
  {
   "cell_type": "code",
   "execution_count": 13,
   "id": "c5d7c4e3",
   "metadata": {},
   "outputs": [
    {
     "name": "stdout",
     "output_type": "stream",
     "text": [
      "Elif < 6\n"
     ]
    }
   ],
   "source": [
    "x = 5\n",
    "\n",
    "if x < 3:\n",
    "    print(\"If\")\n",
    "    \n",
    "elif x < 4:\n",
    "    print(\"Elif < 4\")\n",
    "    \n",
    "elif x < 5:\n",
    "    print(\"Elif < 5\")\n",
    "    \n",
    "elif x < 6:\n",
    "    print(\"Elif < 6\")\n",
    "    \n",
    "elif x < 7:\n",
    "    print(\"Elif < 7\")\n",
    "    \n",
    "else:\n",
    "    print(\"Else\")"
   ]
  },
  {
   "cell_type": "code",
   "execution_count": 14,
   "id": "6525a9e3",
   "metadata": {},
   "outputs": [
    {
     "name": "stdout",
     "output_type": "stream",
     "text": [
      "If < 6\n",
      "If < 7\n"
     ]
    }
   ],
   "source": [
    "if x < 3:\n",
    "    print(\"If < 3\")\n",
    "    \n",
    "if x < 4:\n",
    "    print(\"If < 4\")\n",
    "    \n",
    "if x < 5:\n",
    "    print(\"If < 5\")\n",
    "    \n",
    "if x < 6:\n",
    "    print(\"If < 6\")\n",
    "    \n",
    "if x < 7:\n",
    "    print(\"If < 7\")\n",
    "    \n",
    "else:\n",
    "    print(\"Else\")"
   ]
  },
  {
   "cell_type": "code",
   "execution_count": 18,
   "id": "3e0ffb88",
   "metadata": {},
   "outputs": [
    {
     "name": "stdout",
     "output_type": "stream",
     "text": [
      "Else\n"
     ]
    }
   ],
   "source": [
    "x = 5\n",
    "\n",
    "if not x == 6:\n",
    "    print(\"Else\")"
   ]
  },
  {
   "cell_type": "markdown",
   "id": "3c709530",
   "metadata": {},
   "source": [
    "#### None\n",
    "Definiramo spremenljivko vendar ji ne dodelimo nobene vrednosti"
   ]
  },
  {
   "cell_type": "code",
   "execution_count": 30,
   "id": "7affd3ab",
   "metadata": {},
   "outputs": [
    {
     "name": "stdout",
     "output_type": "stream",
     "text": [
      "y NI None\n"
     ]
    }
   ],
   "source": [
    "y = \"1\"\n",
    "\n",
    "if y:\n",
    "    print(\"y NI None\")\n",
    "else:\n",
    "    print(\"y JE None\")"
   ]
  },
  {
   "cell_type": "markdown",
   "id": "a45e9308",
   "metadata": {},
   "source": [
    "Z if stavkom lahko preverjamo tudi slednje:\n",
    "- Podatkovni tip ni prazen\n",
    "- Podatkovni tip ni None\n",
    "- Podatkovni tip ni enak 0 ali False"
   ]
  },
  {
   "cell_type": "markdown",
   "id": "f5993e7b",
   "metadata": {},
   "source": [
    "## Loops"
   ]
  },
  {
   "cell_type": "markdown",
   "id": "279617bf",
   "metadata": {},
   "source": [
    "### While"
   ]
  },
  {
   "cell_type": "code",
   "execution_count": null,
   "id": "998255bf",
   "metadata": {},
   "outputs": [],
   "source": [
    "while True:\n",
    "    print(\"i\")\n",
    "    "
   ]
  },
  {
   "cell_type": "code",
   "execution_count": 35,
   "id": "d11dc5c4",
   "metadata": {},
   "outputs": [
    {
     "name": "stdout",
     "output_type": "stream",
     "text": [
      "0\n",
      "1\n",
      "2\n",
      "3\n",
      "4\n",
      "5\n",
      "Hello\n"
     ]
    }
   ],
   "source": [
    "i = 0\n",
    "\n",
    "while i < 6:\n",
    "    \n",
    "    print(i)\n",
    "    \n",
    "    i += 1\n",
    "    \n",
    "print(\"Hello\")"
   ]
  },
  {
   "cell_type": "markdown",
   "id": "83d8094a",
   "metadata": {},
   "source": [
    "#### Break"
   ]
  },
  {
   "cell_type": "code",
   "execution_count": 37,
   "id": "4bde30f1",
   "metadata": {},
   "outputs": [
    {
     "name": "stdout",
     "output_type": "stream",
     "text": [
      "0\n",
      "0\n",
      "1\n",
      "1\n",
      "2\n",
      "2\n",
      "3\n",
      "3\n",
      "4\n",
      "4\n",
      "5\n",
      "5\n",
      "6\n"
     ]
    }
   ],
   "source": [
    "i = 0\n",
    "\n",
    "while True:\n",
    "    \n",
    "    print(i)\n",
    "    \n",
    "    if i > 5:\n",
    "        break\n",
    "    \n",
    "    print(i)\n",
    "    \n",
    "    i += 1"
   ]
  },
  {
   "cell_type": "markdown",
   "id": "d1454a44",
   "metadata": {},
   "source": [
    "#### Continue"
   ]
  },
  {
   "cell_type": "code",
   "execution_count": 38,
   "id": "e6d7f105",
   "metadata": {},
   "outputs": [
    {
     "name": "stdout",
     "output_type": "stream",
     "text": [
      "0 pred\n",
      "0 za\n",
      "1 pred\n",
      "1 za\n",
      "2 pred\n",
      "3 pred\n",
      "3 za\n",
      "4 pred\n",
      "4 za\n"
     ]
    }
   ],
   "source": [
    "i = 0\n",
    "\n",
    "while i < 5:\n",
    "    \n",
    "    print(i, \"pred\")\n",
    "    \n",
    "    if i == 2:\n",
    "        i += 1\n",
    "        continue\n",
    "    \n",
    "    print(i, \"za\")\n",
    "    \n",
    "    i += 1"
   ]
  },
  {
   "cell_type": "markdown",
   "id": "8126c74c",
   "metadata": {},
   "source": [
    "### For"
   ]
  },
  {
   "cell_type": "markdown",
   "id": "1c69c4fe",
   "metadata": {},
   "source": [
    "#### Range"
   ]
  },
  {
   "cell_type": "code",
   "execution_count": 44,
   "id": "65a281a2",
   "metadata": {},
   "outputs": [
    {
     "data": {
      "text/plain": [
       "[0, 1, 2, 3, 4]"
      ]
     },
     "execution_count": 44,
     "metadata": {},
     "output_type": "execute_result"
    }
   ],
   "source": [
    "x = range(5)\n",
    "list(x)"
   ]
  },
  {
   "cell_type": "code",
   "execution_count": 51,
   "id": "8b7f50c3",
   "metadata": {},
   "outputs": [
    {
     "name": "stdout",
     "output_type": "stream",
     "text": [
      "4\n",
      "9\n",
      "14\n",
      "19\n",
      "24\n",
      "29\n",
      "34\n",
      "39\n"
     ]
    }
   ],
   "source": [
    "# Iteracija po številih\n",
    "\n",
    "for i in range(4, 40, 5):\n",
    "    \n",
    "    print(i)"
   ]
  },
  {
   "cell_type": "markdown",
   "id": "2dbed6f3",
   "metadata": {},
   "source": [
    "#### Iterating through iterables\n",
    "An iterable is any Python object capable of returning its members one at a time, permitting it to be iterated over in a for-loop."
   ]
  },
  {
   "cell_type": "code",
   "execution_count": 57,
   "id": "ae94dbec",
   "metadata": {},
   "outputs": [
    {
     "name": "stdout",
     "output_type": "stream",
     "text": [
      "K\n",
      "Š\n",
      "O\n",
      "K\n"
     ]
    }
   ],
   "source": [
    "# seznam = [1, \"Primer\", [1, 2, 3], {\"Ključ\": \"Vrednost\"}]\n",
    "seznam = \"KŠOK\"\n",
    "\n",
    "for element in seznam:\n",
    "    print(element)"
   ]
  },
  {
   "cell_type": "markdown",
   "id": "9432ab71",
   "metadata": {},
   "source": [
    "#### Iterables\n",
    "- list\n",
    "- tuple\n",
    "- set\n",
    "- dict\n",
    "- str"
   ]
  },
  {
   "cell_type": "code",
   "execution_count": 60,
   "id": "82e09fc8",
   "metadata": {},
   "outputs": [
    {
     "name": "stdout",
     "output_type": "stream",
     "text": [
      "K1\n",
      "K2\n",
      "K3\n",
      "K4\n",
      "K5\n"
     ]
    }
   ],
   "source": [
    "primer_tuple = (1, 2, 3, 4, 5)\n",
    "primer_set = set([2, 3, 4, 55, 6, 8, 8])\n",
    "primer_dict = {\"K1\": \"V1\", \"K2\": \"V2\", \"K3\": \"V3\", \"K4\": \"V4\", \"K5\": \"V5\"}\n",
    "\n",
    "for item in primer_dict:\n",
    "    print(item)"
   ]
  },
  {
   "cell_type": "markdown",
   "id": "727e21b9",
   "metadata": {},
   "source": [
    "#### Unpacking"
   ]
  },
  {
   "cell_type": "code",
   "execution_count": 64,
   "id": "cfe21e94",
   "metadata": {},
   "outputs": [
    {
     "name": "stdout",
     "output_type": "stream",
     "text": [
      "1 2 3\n"
     ]
    }
   ],
   "source": [
    "# st1, st2, st3 = (1, 2, 3)\n",
    "\n",
    "st1, st2, st3 = [1, 2, 3]\n",
    "\n",
    "print(st1, st2, st3)"
   ]
  },
  {
   "cell_type": "markdown",
   "id": "dbaa5878",
   "metadata": {},
   "source": [
    "#### Iterating through lists of tuples"
   ]
  },
  {
   "cell_type": "code",
   "execution_count": 66,
   "id": "e364bca3",
   "metadata": {},
   "outputs": [
    {
     "name": "stdout",
     "output_type": "stream",
     "text": [
      "(1, 2, 3)\n",
      "(4, 5, 6)\n",
      "(7, 8, 9)\n",
      "(10, 11, 12)\n",
      "1 2 3\n",
      "4 5 6\n",
      "7 8 9\n",
      "10 11 12\n"
     ]
    }
   ],
   "source": [
    "primer = [(1, 2, 3), (4, 5, 6), (7, 8, 9), (10, 11, 12)]\n",
    "\n",
    "for element in primer:\n",
    "    print(element)\n",
    "    \n",
    "for st1, st2, st3 in primer:\n",
    "    print(st1, st2, st3)\n"
   ]
  },
  {
   "cell_type": "markdown",
   "id": "1a5f069c",
   "metadata": {},
   "source": [
    "#### Iterating through key-value pairs in a dictionary"
   ]
  },
  {
   "cell_type": "code",
   "execution_count": 68,
   "id": "e57e7d25",
   "metadata": {},
   "outputs": [
    {
     "data": {
      "text/plain": [
       "[('Jaka', 23),\n",
       " ('Matej', 44),\n",
       " ('Špela', 22),\n",
       " ('Nika', 31),\n",
       " ('Blaž', 10),\n",
       " ('Jan', 57),\n",
       " ('Lidija', 19)]"
      ]
     },
     "execution_count": 68,
     "metadata": {},
     "output_type": "execute_result"
    }
   ],
   "source": [
    "primer = {\"Jaka\": 23, \"Matej\": 44, \"Špela\": 22, \"Nika\": 31, \"Blaž\": 10, \"Jan\": 57, \"Lidija\": 19}\n",
    "\n",
    "list(primer.items())"
   ]
  },
  {
   "cell_type": "code",
   "execution_count": 73,
   "id": "b499e84f",
   "metadata": {},
   "outputs": [
    {
     "name": "stdout",
     "output_type": "stream",
     "text": [
      "Jaka je star 23.\n",
      "Matej je star 44.\n",
      "Špela je stara 22.\n"
     ]
    }
   ],
   "source": [
    "primer = {\"Jaka\": (23, \"M\"), \"Matej\": (44, \"M\"), \"Špela\": (22, \"Ž\")}\n",
    "\n",
    "for key, value in primer.items():\n",
    "    starost, spol = value\n",
    "    \n",
    "    if spol == \"M\":\n",
    "        spol_v_stavku = \"star\"\n",
    "    else:\n",
    "        spol_v_stavku = \"stara\"\n",
    "        \n",
    "    print(f\"{key} je {spol_v_stavku} {starost}.\")"
   ]
  },
  {
   "cell_type": "markdown",
   "id": "52c205e5",
   "metadata": {},
   "source": [
    "## \"Domača naloga\""
   ]
  },
  {
   "cell_type": "markdown",
   "id": "2a7643ec",
   "metadata": {},
   "source": [
    "**1.) Piramida**\n",
    "Napiši program, ki izpiše piramido z uporabo `#` znakov. Program naj sprejme velikost oz. višino priamide.\n",
    "\n",
    "**Primeri:**"
   ]
  },
  {
   "cell_type": "code",
   "execution_count": 32,
   "id": "74c064c7",
   "metadata": {},
   "outputs": [],
   "source": [
    "h = 5\n",
    "\n",
    "\n",
    "    #\n",
    "   ###\n",
    "  #####\n",
    " #######\n",
    "#########"
   ]
  },
  {
   "cell_type": "code",
   "execution_count": 33,
   "id": "1f9158cb",
   "metadata": {},
   "outputs": [],
   "source": [
    "h = 3\n",
    "\n",
    "  #\n",
    " ###\n",
    "#####"
   ]
  },
  {
   "cell_type": "markdown",
   "id": "7d93c510",
   "metadata": {},
   "source": [
    "**2.) Prizma**\n",
    "Napiši program, ki izpiše prizmo z uporabo `#` znakov. Program naj sprejme velikost oz. višino polovico prizme.\n",
    "\n",
    "**Primer:**"
   ]
  },
  {
   "cell_type": "code",
   "execution_count": null,
   "id": "d7f2dacb",
   "metadata": {},
   "outputs": [],
   "source": [
    "h = 3\n",
    "\n",
    "  #\n",
    " ###\n",
    "#####\n",
    " ###\n",
    "  #"
   ]
  }
 ],
 "metadata": {
  "kernelspec": {
   "display_name": "Python 3",
   "language": "python",
   "name": "python3"
  },
  "language_info": {
   "codemirror_mode": {
    "name": "ipython",
    "version": 3
   },
   "file_extension": ".py",
   "mimetype": "text/x-python",
   "name": "python",
   "nbconvert_exporter": "python",
   "pygments_lexer": "ipython3",
   "version": "3.8.8"
  }
 },
 "nbformat": 4,
 "nbformat_minor": 5
}
