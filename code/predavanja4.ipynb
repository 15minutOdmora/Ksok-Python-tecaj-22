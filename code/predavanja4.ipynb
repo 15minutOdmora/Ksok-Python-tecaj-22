{
 "cells": [
  {
   "cell_type": "markdown",
   "id": "d1bdffd7",
   "metadata": {},
   "source": [
    "## Predavanja 4"
   ]
  },
  {
   "cell_type": "markdown",
   "id": "76e76159",
   "metadata": {},
   "source": [
    "### Funkcije"
   ]
  },
  {
   "cell_type": "markdown",
   "id": "9c228dcf",
   "metadata": {},
   "source": [
    "#### Osnovn primer"
   ]
  },
  {
   "cell_type": "code",
   "execution_count": 2,
   "id": "891d7418",
   "metadata": {},
   "outputs": [],
   "source": [
    "def ime_funkcije():\n",
    "    # Blok kode, ki se izvede ob klicu funkcije\n",
    "    print(\"Hello World!\")"
   ]
  },
  {
   "cell_type": "code",
   "execution_count": 70,
   "id": "122d21c8",
   "metadata": {},
   "outputs": [
    {
     "data": {
      "text/plain": [
       "function"
      ]
     },
     "execution_count": 70,
     "metadata": {},
     "output_type": "execute_result"
    }
   ],
   "source": [
    "# Funkcije pokličemo po imenu, dodamo ()\n",
    "ime_funkcije()"
   ]
  },
  {
   "cell_type": "code",
   "execution_count": 72,
   "id": "7a246a3f",
   "metadata": {},
   "outputs": [
    {
     "name": "stdout",
     "output_type": "stream",
     "text": [
      "Hello\n",
      "Hello\n",
      "Hello\n",
      "Hello\n",
      "Hello\n",
      "Hello\n",
      "Hello\n",
      "Hello\n",
      "Hello\n",
      "Hello\n"
     ]
    }
   ],
   "source": [
    "def pozdravi_5krat():\n",
    "    for i in range(5):\n",
    "        print(\"Hello\")\n",
    "    \n",
    "pozdravi_5krat()"
   ]
  },
  {
   "cell_type": "markdown",
   "id": "b3773a2c",
   "metadata": {},
   "source": [
    "#### Parameters"
   ]
  },
  {
   "cell_type": "code",
   "execution_count": 73,
   "id": "1caab260",
   "metadata": {},
   "outputs": [],
   "source": [
    "def izpisi_kvadrat(x):  # Funkciji določimo koliko parametrov prejme, ko jo definiramo\n",
    "    print(x * x)"
   ]
  },
  {
   "cell_type": "code",
   "execution_count": 161,
   "id": "229943d9",
   "metadata": {},
   "outputs": [
    {
     "name": "stdout",
     "output_type": "stream",
     "text": [
      "9\n"
     ]
    }
   ],
   "source": [
    "izpisi_kvadrat(3)"
   ]
  },
  {
   "cell_type": "code",
   "execution_count": 162,
   "id": "46c72e2e",
   "metadata": {},
   "outputs": [],
   "source": [
    "def izpisi_vsoto(x, y):\n",
    "    print(x + y)"
   ]
  },
  {
   "cell_type": "code",
   "execution_count": 80,
   "id": "d3926fe9",
   "metadata": {},
   "outputs": [
    {
     "name": "stdout",
     "output_type": "stream",
     "text": [
      "11\n",
      "4\n",
      "15\n"
     ]
    }
   ],
   "source": [
    "izpisi_vsoto(11, 4)"
   ]
  },
  {
   "cell_type": "markdown",
   "id": "87566f8a",
   "metadata": {},
   "source": [
    "#### Default value parameters"
   ]
  },
  {
   "cell_type": "code",
   "execution_count": 86,
   "id": "d7bd9dff",
   "metadata": {},
   "outputs": [],
   "source": [
    "def izpisi_kvadrat(x = 4):\n",
    "    print(x * x)"
   ]
  },
  {
   "cell_type": "code",
   "execution_count": 87,
   "id": "d6c9a83e",
   "metadata": {},
   "outputs": [
    {
     "name": "stdout",
     "output_type": "stream",
     "text": [
      "36\n"
     ]
    }
   ],
   "source": [
    "izpisi_kvadrat(6)"
   ]
  },
  {
   "cell_type": "code",
   "execution_count": 163,
   "id": "63e914b9",
   "metadata": {},
   "outputs": [
    {
     "name": "stdout",
     "output_type": "stream",
     "text": [
      "16\n"
     ]
    }
   ],
   "source": [
    "izpisi_kvadrat()"
   ]
  },
  {
   "cell_type": "markdown",
   "id": "1f384592",
   "metadata": {},
   "source": [
    "Seveda imamo lahko navadne parametre ter tiste z privzetimi vrednostmi.\n",
    "Pod pogojem, da navadni v definiciji funkcije nastopijo prvi!"
   ]
  },
  {
   "cell_type": "code",
   "execution_count": 164,
   "id": "35f8bd9e",
   "metadata": {},
   "outputs": [
    {
     "name": "stdout",
     "output_type": "stream",
     "text": [
      "5 3\n"
     ]
    }
   ],
   "source": [
    "# Privzeti parametri nastopijo zadnji! Vrstni red pomemben!\n",
    "def vsota(x, y, z = None, d = 5, g = 3):\n",
    "    print(d, g)\n",
    "\n",
    "vsota(1, 2, 3)"
   ]
  },
  {
   "cell_type": "code",
   "execution_count": 92,
   "id": "43f59a24",
   "metadata": {},
   "outputs": [
    {
     "name": "stdout",
     "output_type": "stream",
     "text": [
      "10\n"
     ]
    }
   ],
   "source": [
    "def vsota(x, y = 5):\n",
    "    print(x + y)\n",
    "    \n",
    "vsota(5)"
   ]
  },
  {
   "cell_type": "markdown",
   "id": "980431d8",
   "metadata": {},
   "source": [
    "#### Function parameter scope"
   ]
  },
  {
   "cell_type": "code",
   "execution_count": 93,
   "id": "75af9741",
   "metadata": {},
   "outputs": [
    {
     "data": {
      "text/plain": [
       "5"
      ]
     },
     "execution_count": 93,
     "metadata": {},
     "output_type": "execute_result"
    }
   ],
   "source": [
    "def pristej_10(x):  # Spremenljivka x obstaja le znotraj funkcije, nase \"kopira\" prejeto vrednost\n",
    "    x += 10\n",
    "    \n",
    "y = 5\n",
    "pristej_10(y)\n",
    "y"
   ]
  },
  {
   "cell_type": "code",
   "execution_count": 104,
   "id": "001df7bc",
   "metadata": {},
   "outputs": [
    {
     "name": "stdout",
     "output_type": "stream",
     "text": [
      "21\n"
     ]
    }
   ],
   "source": [
    "y = 11\n",
    "\n",
    "def pristej_10():\n",
    "    # print(y)\n",
    "    \n",
    "    # y += 10\n",
    "    \n",
    "    # x = 10 + y\n",
    "    print(10 + y)\n",
    "\n",
    "pristej_10()"
   ]
  },
  {
   "cell_type": "code",
   "execution_count": 105,
   "id": "a10d4dfb",
   "metadata": {},
   "outputs": [
    {
     "ename": "NameError",
     "evalue": "name 'sprem' is not defined",
     "output_type": "error",
     "traceback": [
      "\u001b[1;31m---------------------------------------------------------------------------\u001b[0m",
      "\u001b[1;31mNameError\u001b[0m                                 Traceback (most recent call last)",
      "\u001b[1;32m<ipython-input-105-7d3f0ef551a9>\u001b[0m in \u001b[0;36m<module>\u001b[1;34m\u001b[0m\n\u001b[0;32m      3\u001b[0m \u001b[1;33m\u001b[0m\u001b[0m\n\u001b[0;32m      4\u001b[0m \u001b[0mustvari_spremenljivko\u001b[0m\u001b[1;33m(\u001b[0m\u001b[1;33m)\u001b[0m\u001b[1;33m\u001b[0m\u001b[1;33m\u001b[0m\u001b[0m\n\u001b[1;32m----> 5\u001b[1;33m \u001b[0mprint\u001b[0m\u001b[1;33m(\u001b[0m\u001b[0msprem\u001b[0m\u001b[1;33m)\u001b[0m  \u001b[1;31m# Sproži napako, ker spremenljivka obstaja le znotraj funkcije\u001b[0m\u001b[1;33m\u001b[0m\u001b[1;33m\u001b[0m\u001b[0m\n\u001b[0m",
      "\u001b[1;31mNameError\u001b[0m: name 'sprem' is not defined"
     ]
    }
   ],
   "source": [
    "def ustvari_spremenljivko():\n",
    "    sprem = \"Spremenljivka\"\n",
    "\n",
    "ustvari_spremenljivko()  \n",
    "print(sprem)  # Sproži napako, ker spremenljivka obstaja le znotraj funkcije!"
   ]
  },
  {
   "cell_type": "markdown",
   "id": "603ae408",
   "metadata": {},
   "source": [
    "#### Return value\n",
    "\n",
    "Funkcije lahko vračajo vrednosti, uporabimo izraz `return`."
   ]
  },
  {
   "cell_type": "code",
   "execution_count": 109,
   "id": "5ba9142f",
   "metadata": {},
   "outputs": [
    {
     "name": "stdout",
     "output_type": "stream",
     "text": [
      "\n"
     ]
    }
   ],
   "source": [
    "def kvadriraj(x):\n",
    "    kvadrat = x * x  # Nepotrebna spremenljivka\n",
    "    return kvadrat\n",
    "\n",
    "# primer = kvadriraj(5)\n",
    "# primer\n",
    "print(kvadriraj(5))"
   ]
  },
  {
   "cell_type": "code",
   "execution_count": 110,
   "id": "2a7df3fc",
   "metadata": {},
   "outputs": [
    {
     "data": {
      "text/plain": [
       "[1, 4, 9, 16, 25, 36, 49, 64]"
      ]
     },
     "execution_count": 110,
     "metadata": {},
     "output_type": "execute_result"
    }
   ],
   "source": [
    "def kvadriraj_seznam(seznam):\n",
    "    novi_seznam = []\n",
    "    \n",
    "    for x in seznam:\n",
    "        novi_seznam.append(x ** 2)\n",
    "    return novi_seznam\n",
    "\n",
    "kvadriraj_seznam([1, 2, 3, 4, 5, 6, 7, 8])"
   ]
  },
  {
   "cell_type": "markdown",
   "id": "0d423a53",
   "metadata": {},
   "source": [
    "#### Return multiple values"
   ]
  },
  {
   "cell_type": "code",
   "execution_count": 118,
   "id": "1736d9db",
   "metadata": {},
   "outputs": [
    {
     "name": "stdout",
     "output_type": "stream",
     "text": [
      "16\n"
     ]
    }
   ],
   "source": [
    "def vrni_kvadrate(x, y, z):\n",
    "    return x ** 2, y ** 2, z ** 2\n",
    "\n",
    "vrni_kvadrate(1, 2, 3)\n",
    "\n",
    "# Lahko \"unpack-amo\"\n",
    "x, y, z = vrni_kvadrate(4, 5, 6)\n",
    "x, y, z"
   ]
  },
  {
   "cell_type": "markdown",
   "id": "e4f52e43",
   "metadata": {},
   "source": [
    "### List comprehension; osnove"
   ]
  },
  {
   "cell_type": "code",
   "execution_count": 125,
   "id": "185d1b48",
   "metadata": {},
   "outputs": [
    {
     "ename": "SyntaxError",
     "evalue": "invalid syntax (<ipython-input-125-292bce545c0f>, line 2)",
     "output_type": "error",
     "traceback": [
      "\u001b[1;36m  File \u001b[1;32m\"<ipython-input-125-292bce545c0f>\"\u001b[1;36m, line \u001b[1;32m2\u001b[0m\n\u001b[1;33m    rez = [y = 3 for x in range(5)]\u001b[0m\n\u001b[1;37m             ^\u001b[0m\n\u001b[1;31mSyntaxError\u001b[0m\u001b[1;31m:\u001b[0m invalid syntax\n"
     ]
    }
   ],
   "source": [
    "# Sezname lahko generiramo kar v eni vrstici\n",
    "rez = [x for x in range(5)]\n",
    "\n",
    "# Ekvivalentno \n",
    "prazen = []\n",
    "for x in range(5):\n",
    "    prazen.append(x)\n",
    "    \n",
    "rez, prazen"
   ]
  },
  {
   "cell_type": "code",
   "execution_count": 126,
   "id": "fa477b0b",
   "metadata": {},
   "outputs": [
    {
     "data": {
      "text/plain": [
       "[-9, -8, -7, -6, -5, 0, 10]"
      ]
     },
     "execution_count": 126,
     "metadata": {},
     "output_type": "execute_result"
    }
   ],
   "source": [
    "primer = [1, 2, 3, 4, 5, 10, 20]\n",
    "\n",
    "rez = [x - 10 for x in primer]\n",
    "rez"
   ]
  },
  {
   "cell_type": "code",
   "execution_count": 41,
   "id": "c182396c",
   "metadata": {
    "collapsed": true
   },
   "outputs": [
    {
     "data": {
      "text/plain": [
       "[1, 4, 9, 16, 25, 36, 49]"
      ]
     },
     "execution_count": 41,
     "metadata": {},
     "output_type": "execute_result"
    }
   ],
   "source": [
    "def kvadriraj_seznam(seznam):\n",
    "    return [x * x for x in seznam]\n",
    "\n",
    "kvadriraj_seznam([1, 2, 3, 4, 5, 6, 7])"
   ]
  },
  {
   "cell_type": "markdown",
   "id": "a6d3005b",
   "metadata": {},
   "source": [
    "#### Args and Kwargs"
   ]
  },
  {
   "cell_type": "code",
   "execution_count": 133,
   "id": "6bcdc85d",
   "metadata": {},
   "outputs": [
    {
     "name": "stdout",
     "output_type": "stream",
     "text": [
      "(1, 2, 4)\n",
      "2\n"
     ]
    }
   ],
   "source": [
    "def primer(*args, key=2): \n",
    "    print(a)\n",
    "    print(key)\n",
    "\n",
    "primer(1, 2, 4)"
   ]
  },
  {
   "cell_type": "code",
   "execution_count": 156,
   "id": "c08c3d29",
   "metadata": {},
   "outputs": [
    {
     "data": {
      "text/plain": [
       "6"
      ]
     },
     "execution_count": 156,
     "metadata": {},
     "output_type": "execute_result"
    }
   ],
   "source": [
    "# Primer vsote z uporabo args\n",
    "\n",
    "def vsota(*args):\n",
    "    return sum(args)\n",
    "\n",
    "vsota(1, 2, 3)"
   ]
  },
  {
   "cell_type": "markdown",
   "id": "66f1a2a6",
   "metadata": {},
   "source": [
    "**Komentar:**\n",
    "\n",
    "`sum` sešteje vse elemente v iteratorju (`list`, `tuple`, ...) in deluje le med števili. Torej lahko seštevamo le sezname, tuple, itd. ki vsebujejo števila."
   ]
  },
  {
   "cell_type": "code",
   "execution_count": 157,
   "id": "e64f3555",
   "metadata": {},
   "outputs": [
    {
     "ename": "TypeError",
     "evalue": "unsupported operand type(s) for +: 'int' and 'str'",
     "output_type": "error",
     "traceback": [
      "\u001b[1;31m---------------------------------------------------------------------------\u001b[0m",
      "\u001b[1;31mTypeError\u001b[0m                                 Traceback (most recent call last)",
      "\u001b[1;32m<ipython-input-157-444676bce97c>\u001b[0m in \u001b[0;36m<module>\u001b[1;34m\u001b[0m\n\u001b[1;32m----> 1\u001b[1;33m \u001b[0msum\u001b[0m\u001b[1;33m(\u001b[0m\u001b[1;33m[\u001b[0m\u001b[1;34m\"1\"\u001b[0m\u001b[1;33m,\u001b[0m \u001b[1;34m\"2\"\u001b[0m\u001b[1;33m,\u001b[0m \u001b[1;34m\"3\"\u001b[0m\u001b[1;33m]\u001b[0m\u001b[1;33m)\u001b[0m  \u001b[1;31m# Vrne napako\u001b[0m\u001b[1;33m\u001b[0m\u001b[1;33m\u001b[0m\u001b[0m\n\u001b[0m",
      "\u001b[1;31mTypeError\u001b[0m: unsupported operand type(s) for +: 'int' and 'str'"
     ]
    }
   ],
   "source": [
    "sum([\"1\", \"2\", \"3\"])  # Vrne napako"
   ]
  },
  {
   "cell_type": "markdown",
   "id": "3d5753d1",
   "metadata": {},
   "source": [
    "#### Function as a variable"
   ]
  },
  {
   "cell_type": "code",
   "execution_count": 143,
   "id": "cff62e52",
   "metadata": {},
   "outputs": [
    {
     "name": "stdout",
     "output_type": "stream",
     "text": [
      "Hello World!\n"
     ]
    }
   ],
   "source": [
    "def izpisi_pozdrav():\n",
    "    print(\"Hello World!\")\n",
    "    \n",
    "    \n",
    "def izvedi_funkcijo(func):\n",
    "    func()\n",
    "    \n",
    "izvedi_funkcijo(izpisi_pozdrav)  # Kot spremenljivko podamo ime funkcije brez oklepajev ()\n",
    "# izpisi_pozdrav() z oklepaji izvede funkcijo!"
   ]
  },
  {
   "cell_type": "markdown",
   "id": "14282655",
   "metadata": {},
   "source": [
    "### Lambda functions / Anonymous functions"
   ]
  },
  {
   "cell_type": "code",
   "execution_count": 141,
   "id": "d609d348",
   "metadata": {},
   "outputs": [
    {
     "data": {
      "text/plain": [
       "9"
      ]
     },
     "execution_count": 141,
     "metadata": {},
     "output_type": "execute_result"
    }
   ],
   "source": [
    "kvadriraj = lambda x: x ** 2\n",
    "\n",
    "kvadriraj(3)"
   ]
  },
  {
   "cell_type": "code",
   "execution_count": 142,
   "id": "dcf97f93",
   "metadata": {},
   "outputs": [
    {
     "data": {
      "text/plain": [
       "10"
      ]
     },
     "execution_count": 142,
     "metadata": {},
     "output_type": "execute_result"
    }
   ],
   "source": [
    "sestej = lambda x, y: x + y\n",
    "\n",
    "sestej(4, 6)"
   ]
  },
  {
   "cell_type": "markdown",
   "id": "53fcfb55",
   "metadata": {},
   "source": [
    "#### Map function"
   ]
  },
  {
   "cell_type": "code",
   "execution_count": 146,
   "id": "7f6bda2f",
   "metadata": {},
   "outputs": [
    {
     "data": {
      "text/plain": [
       "[1, 4, 9, 16, 25, 36]"
      ]
     },
     "execution_count": 146,
     "metadata": {},
     "output_type": "execute_result"
    }
   ],
   "source": [
    "seznam = [1, 2, 3, 4, 5, 6]\n",
    "\n",
    "list(map(lambda x: x ** 2, seznam)"
   ]
  },
  {
   "cell_type": "markdown",
   "id": "16b5bba8",
   "metadata": {},
   "source": [
    "Kaj se dogaja odzadaj? \n",
    "\n",
    "Lahko si predstavljamo kot:"
   ]
  },
  {
   "cell_type": "code",
   "execution_count": 158,
   "id": "f1b93b88",
   "metadata": {},
   "outputs": [
    {
     "data": {
      "text/plain": [
       "[1, 4, 9, 16, 25, 36]"
      ]
     },
     "execution_count": 158,
     "metadata": {},
     "output_type": "execute_result"
    }
   ],
   "source": [
    "def map_ozadje(func, seznam):  # Ni dejansko tako ozadje v map funkciji, to je le primer za boljšo interpretacijo\n",
    "    rezultat = []\n",
    "    for x in seznam:\n",
    "        rezultat.append(func(x))\n",
    "    return rezultat\n",
    "\n",
    "seznam = [1, 2, 3, 4, 5, 6]\n",
    "map_ozadje(lambda x: x ** 2, seznam)"
   ]
  },
  {
   "cell_type": "markdown",
   "id": "43863817",
   "metadata": {},
   "source": [
    "#### String join function"
   ]
  },
  {
   "cell_type": "code",
   "execution_count": 153,
   "id": "30d7efeb",
   "metadata": {},
   "outputs": [
    {
     "data": {
      "text/plain": [
       "'KŠOK'"
      ]
     },
     "execution_count": 153,
     "metadata": {},
     "output_type": "execute_result"
    }
   ],
   "source": [
    "seznam = [\"1\", \"2\", \"3\", \"4\", \"5\"]\n",
    "# seznam = [1, 2, 3, 4, 5]\n",
    "\n",
    "niz = \"-\"\n",
    "niz.join(seznam)\n",
    "\n",
    "# Uporabno"
   ]
  },
  {
   "cell_type": "markdown",
   "id": "448cf69e",
   "metadata": {},
   "source": [
    "#### String replace function"
   ]
  },
  {
   "cell_type": "code",
   "execution_count": 160,
   "id": "5ff262c8",
   "metadata": {},
   "outputs": [
    {
     "data": {
      "text/plain": [
       "'-ŠO-'"
      ]
     },
     "execution_count": 160,
     "metadata": {},
     "output_type": "execute_result"
    }
   ],
   "source": [
    "\"KŠOK\".replace(\"K\", \"-\")  # V nizu KŠOK zamenja vse K znake z '-' znakom"
   ]
  },
  {
   "cell_type": "markdown",
   "id": "d25fd680",
   "metadata": {},
   "source": [
    "##### Krajše"
   ]
  },
  {
   "cell_type": "code",
   "execution_count": 155,
   "id": "248ce4f5",
   "metadata": {},
   "outputs": [
    {
     "data": {
      "text/plain": [
       "'1-2-3-4-5'"
      ]
     },
     "execution_count": 155,
     "metadata": {},
     "output_type": "execute_result"
    }
   ],
   "source": [
    "seznam = [1, 2, 3, 4, 5]\n",
    "\n",
    "\"-\".join(map(lambda x: str(x), seznam))"
   ]
  },
  {
   "cell_type": "markdown",
   "id": "c6a689a7",
   "metadata": {},
   "source": [
    "**Komentar:** \n",
    "\n",
    "`join` kot parameter sprejme iterator, ki vsebuje nize in deluje na nizu.\n",
    "\n",
    "`map` je posebne vrste iterator zato rezultata ni potrebno spremeniti v `list`"
   ]
  },
  {
   "cell_type": "code",
   "execution_count": null,
   "id": "a9f9bd2d",
   "metadata": {},
   "outputs": [],
   "source": []
  }
 ],
 "metadata": {
  "kernelspec": {
   "display_name": "Python 3",
   "language": "python",
   "name": "python3"
  },
  "language_info": {
   "codemirror_mode": {
    "name": "ipython",
    "version": 3
   },
   "file_extension": ".py",
   "mimetype": "text/x-python",
   "name": "python",
   "nbconvert_exporter": "python",
   "pygments_lexer": "ipython3",
   "version": "3.8.8"
  }
 },
 "nbformat": 4,
 "nbformat_minor": 5
}
