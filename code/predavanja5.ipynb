{
 "cells": [
  {
   "cell_type": "markdown",
   "id": "768c3845",
   "metadata": {},
   "source": [
    "# OOP"
   ]
  },
  {
   "cell_type": "markdown",
   "id": "f6275a36",
   "metadata": {},
   "source": [
    "### Static Class;"
   ]
  },
  {
   "cell_type": "code",
   "execution_count": 44,
   "id": "50105f01",
   "metadata": {},
   "outputs": [],
   "source": [
    "class Razred:\n",
    "    \n",
    "    st_ucencev = 5\n",
    "    predmeti = [\"Matematika\", \"Slovenščina\", \"Angleščina\"]\n",
    "    \n",
    "    urnik = {\n",
    "        \"pon\": \"Matematika\",\n",
    "        \"tor\": \"Slovenščina\",\n",
    "        \"sre\": \"Matematika\",\n",
    "        \"čet\": \"Angleščina\",\n",
    "        \"pet\": \"Slovenščina\"\n",
    "    }\n",
    "    \n",
    "    def danes_na_urniku(dan):\n",
    "        \"\"\"\n",
    "        Vrne predmet, ki je na urniku glede na podani dan.\n",
    "        \"\"\"\n",
    "        if dan in Razred.urnik:\n",
    "            return Razred.urnik[dan]\n",
    "        else:\n",
    "            return \"Za vikend smo fraj\"\n"
   ]
  },
  {
   "cell_type": "code",
   "execution_count": 46,
   "id": "dca931ea",
   "metadata": {},
   "outputs": [
    {
     "data": {
      "text/plain": [
       "6"
      ]
     },
     "execution_count": 46,
     "metadata": {},
     "output_type": "execute_result"
    }
   ],
   "source": [
    "Razred.st_ucencev"
   ]
  },
  {
   "cell_type": "code",
   "execution_count": 47,
   "id": "90ffa0d3",
   "metadata": {},
   "outputs": [
    {
     "data": {
      "text/plain": [
       "['Matematika', 'Slovenščina', 'Angleščina']"
      ]
     },
     "execution_count": 47,
     "metadata": {},
     "output_type": "execute_result"
    }
   ],
   "source": [
    "Razred.predmeti"
   ]
  },
  {
   "cell_type": "code",
   "execution_count": 48,
   "id": "95893b0f",
   "metadata": {},
   "outputs": [
    {
     "data": {
      "text/plain": [
       "{'pon': 'Matematika',\n",
       " 'tor': 'Slovenščina',\n",
       " 'sre': 'Matematika',\n",
       " 'čet': 'Angleščina',\n",
       " 'pet': 'Slovenščina'}"
      ]
     },
     "execution_count": 48,
     "metadata": {},
     "output_type": "execute_result"
    }
   ],
   "source": [
    "Razred.urnik"
   ]
  },
  {
   "cell_type": "code",
   "execution_count": 11,
   "id": "50d7c40d",
   "metadata": {
    "collapsed": true
   },
   "outputs": [
    {
     "data": {
      "text/plain": [
       "'Matematika'"
      ]
     },
     "execution_count": 11,
     "metadata": {},
     "output_type": "execute_result"
    }
   ],
   "source": [
    "Razred.danes_na_urniku(\"pon\")"
   ]
  },
  {
   "cell_type": "markdown",
   "id": "59341b0c",
   "metadata": {},
   "source": [
    "### Class instance; object"
   ]
  },
  {
   "cell_type": "code",
   "execution_count": 50,
   "id": "62f293f0",
   "metadata": {},
   "outputs": [],
   "source": [
    "class Ucenec:\n",
    "    \n",
    "    ime = \"Jaka\"\n",
    "    priimek = \"Novak\"\n",
    "    \n",
    "    ocene = {\n",
    "        \"Matematika\": [],\n",
    "        \"Slovenščina\": [],\n",
    "        \"Angleščina\": []\n",
    "    }\n"
   ]
  },
  {
   "cell_type": "code",
   "execution_count": 52,
   "id": "931c9785",
   "metadata": {},
   "outputs": [
    {
     "data": {
      "text/plain": [
       "'Jaka'"
      ]
     },
     "execution_count": 52,
     "metadata": {},
     "output_type": "execute_result"
    }
   ],
   "source": [
    "Ucenec.ime"
   ]
  },
  {
   "cell_type": "markdown",
   "id": "1a653718",
   "metadata": {},
   "source": [
    "**Problem**: Zgornje deluje kot neka konstanta. Mi bi želeli imeti več različnih učencev, različna imena, različne ocene. "
   ]
  },
  {
   "cell_type": "markdown",
   "id": "5fab1b1f",
   "metadata": {},
   "source": [
    "Ustvarimo razred, katirega lahko inicializiramo v objekt."
   ]
  },
  {
   "cell_type": "code",
   "execution_count": 59,
   "id": "452f9555",
   "metadata": {},
   "outputs": [],
   "source": [
    "# Razred deluje kot nek načrt za naš objekt:\n",
    "\n",
    "class Ucenec:\n",
    "    \"\"\"\n",
    "    Razred, ki predstavlja enega učenca\n",
    "    \"\"\"\n",
    "    def __init__(self, ime, priimek):\n",
    "        \"\"\"\n",
    "        Init velja za inicializator oz. konstruktor objekta. V njem določimo vrednosti atributov, \n",
    "        ima lahko parametre katire podamo, ko ustvarimo razred.\n",
    "        \"\"\"\n",
    "        # Spremenljivkam self. pravimo atributi (atributes)\n",
    "        \n",
    "        self.ime = ime\n",
    "        self.priimek = priimek\n",
    "        \n",
    "        self.ocene = {\n",
    "            \"Matematika\": [],\n",
    "            \"Slovenščina\": [],\n",
    "            \"Angleščina\": []\n",
    "        }"
   ]
  },
  {
   "cell_type": "code",
   "execution_count": null,
   "id": "e1991686",
   "metadata": {},
   "outputs": [],
   "source": [
    "ucenec = Ucenec()"
   ]
  },
  {
   "cell_type": "code",
   "execution_count": 60,
   "id": "99b1ede2",
   "metadata": {},
   "outputs": [],
   "source": [
    "# Objekt nastane, ko razred inicializiramo:\n",
    "\n",
    "ucenec1 = Ucenec(\"Jaka\", \"Novak\")\n",
    "ucenec2 = Ucenec(\"Jaka\", \"Novak\")"
   ]
  },
  {
   "cell_type": "code",
   "execution_count": 55,
   "id": "4dd90147",
   "metadata": {},
   "outputs": [
    {
     "data": {
      "text/plain": [
       "'Novak'"
      ]
     },
     "execution_count": 55,
     "metadata": {},
     "output_type": "execute_result"
    }
   ],
   "source": [
    "ucenec1.priimek"
   ]
  },
  {
   "cell_type": "code",
   "execution_count": 56,
   "id": "12c2715b",
   "metadata": {},
   "outputs": [
    {
     "data": {
      "text/plain": [
       "'Matejič'"
      ]
     },
     "execution_count": 56,
     "metadata": {},
     "output_type": "execute_result"
    }
   ],
   "source": [
    "ucenec2.priimek"
   ]
  },
  {
   "cell_type": "code",
   "execution_count": 62,
   "id": "c09c1562",
   "metadata": {},
   "outputs": [
    {
     "data": {
      "text/plain": [
       "<__main__.Ucenec at 0x1cfd1335b50>"
      ]
     },
     "execution_count": 62,
     "metadata": {},
     "output_type": "execute_result"
    }
   ],
   "source": [
    "ucenec1"
   ]
  },
  {
   "cell_type": "markdown",
   "id": "82ba6f12",
   "metadata": {},
   "source": [
    "#### Class methods"
   ]
  },
  {
   "cell_type": "markdown",
   "id": "6c6032c2",
   "metadata": {},
   "source": [
    "Razredi vsebujejo lahko tudi metode; najlažje predstavljamo kot funkcije, ki delujejo na sam objekt."
   ]
  },
  {
   "cell_type": "code",
   "execution_count": 35,
   "id": "eb097da4",
   "metadata": {},
   "outputs": [],
   "source": [
    "# Razred deluje kot nek načrt za naš objekt:\n",
    "\n",
    "class Ucenec:\n",
    "    \"\"\"\n",
    "    Razred, ki predstavlja enega učenca\n",
    "    \"\"\"\n",
    "    def __init__(self, ime, priimek):\n",
    "        \"\"\"\n",
    "        Init velja za inicializator oz. konstruktor objekta. V njem določimo vrednosti atributov, \n",
    "        ima lahko parametre katire podamo, ko ustvarimo razred.\n",
    "        \"\"\"\n",
    "        # Spremenljivkam self. pravimo atributi (atributes)\n",
    "        \n",
    "        self.ime = ime\n",
    "        self.priimek = priimek\n",
    "        \n",
    "        self.ocene = {\n",
    "            \"Matematika\": [],\n",
    "            \"Slovenščina\": [],\n",
    "            \"Angleščina\": []\n",
    "        }\n",
    "        \n",
    "    def oceni_test(self, predmet, ocena):\n",
    "        \"\"\"\n",
    "        Doda oceno, k podanemu predmetu.\n",
    "        \"\"\"\n",
    "        if predmet in self.ocene:\n",
    "            self.ocene[predmet].append(ocena)\n",
    "    \n",
    "    def izpisi_ocene(self):\n",
    "        \"\"\"\n",
    "        Ipiše vse ocene učenca na \"lep\" način.\n",
    "        \"\"\"\n",
    "        for predmet, ocene in self.ocene.items():\n",
    "            ocene_str = list(map(str, ocene))\n",
    "            print(predmet + \":\", \", \".join(ocene_str))"
   ]
  },
  {
   "cell_type": "code",
   "execution_count": 36,
   "id": "6562f66b",
   "metadata": {
    "collapsed": true
   },
   "outputs": [
    {
     "data": {
      "text/plain": [
       "{'Matematika': [4, 2], 'Slovenščina': [3], 'Angleščina': [5]}"
      ]
     },
     "execution_count": 36,
     "metadata": {},
     "output_type": "execute_result"
    }
   ],
   "source": [
    "ucenec1 = Ucenec(\"Jaka\", \"Novak\")\n",
    "\n",
    "ucenec1.oceni_test(\"Matematika\", 4)\n",
    "ucenec1.oceni_test(\"Matematika\", 2)\n",
    "ucenec1.oceni_test(\"Slovenščina\", 3)\n",
    "ucenec1.oceni_test(\"Angleščina\", 5)\n",
    "\n",
    "ucenec1.ocene"
   ]
  },
  {
   "cell_type": "code",
   "execution_count": 37,
   "id": "957ad1dc",
   "metadata": {
    "collapsed": true
   },
   "outputs": [
    {
     "name": "stdout",
     "output_type": "stream",
     "text": [
      "Matematika: 4, 2\n",
      "Slovenščina: 3\n",
      "Angleščina: 5\n"
     ]
    }
   ],
   "source": [
    "ucenec1.izpisi_ocene()"
   ]
  },
  {
   "cell_type": "markdown",
   "id": "aa098251",
   "metadata": {},
   "source": [
    "#### Magic or dunder methods"
   ]
  },
  {
   "cell_type": "code",
   "execution_count": 39,
   "id": "3423f0c7",
   "metadata": {},
   "outputs": [],
   "source": [
    "# Razred deluje kot nek načrt za naš objekt:\n",
    "\n",
    "class Ucenec:\n",
    "    \"\"\"\n",
    "    Razred, ki predstavlja enega učenca\n",
    "    \"\"\"\n",
    "    def __init__(self, ime, priimek):\n",
    "        \"\"\"\n",
    "        Init velja za inicializator oz. konstruktor objekta. V njem določimo vrednosti atributov, \n",
    "        ima lahko parametre katire podamo, ko ustvarimo razred.\n",
    "        \"\"\"\n",
    "        # Spremenljivkam self. pravimo atributi (atributes)\n",
    "        \n",
    "        self.ime = ime\n",
    "        self.priimek = priimek\n",
    "        \n",
    "        self.ocene = {\n",
    "            \"Matematika\": [],\n",
    "            \"Slovenščina\": [],\n",
    "            \"Angleščina\": []\n",
    "        }\n",
    "        \n",
    "    def oceni_test(self, predmet, ocena):\n",
    "        \"\"\"\n",
    "        Doda oceno, k podanemu predmetu.\n",
    "        \"\"\"\n",
    "        if predmet in self.ocene:\n",
    "            self.ocene[predmet].append(ocena)\n",
    "    \n",
    "    def izpisi_ocene(self):\n",
    "        \"\"\"\n",
    "        Ipiše vse ocene učenca na \"lep\" način.\n",
    "        \"\"\"\n",
    "        for predmet, ocene in self.ocene.items():\n",
    "            ocene_str = list(map(str, ocene))\n",
    "            print(predmet + \":\", \", \".join(ocene_str))\n",
    "            \n",
    "    def vse_ocene(self):\n",
    "        ocene_vse = []\n",
    "        for _, ocene in self.ocene.items():\n",
    "            ocene_vse += ocene\n",
    "        return ocene_vse\n",
    "            \n",
    "    def __str__(self):  # Mora vrniti string\n",
    "        return f\"Učenec {self.ime} {self.priimek} ima ocene {self.vse_ocene()}\"\n"
   ]
  },
  {
   "cell_type": "code",
   "execution_count": 40,
   "id": "49334040",
   "metadata": {},
   "outputs": [],
   "source": [
    "ucenec1 = Ucenec(\"Jaka\", \"Novak\")\n",
    "\n",
    "ucenec1.oceni_test(\"Matematika\", 4)\n",
    "ucenec1.oceni_test(\"Matematika\", 2)\n",
    "ucenec1.oceni_test(\"Slovenščina\", 3)\n",
    "ucenec1.oceni_test(\"Angleščina\", 5)"
   ]
  },
  {
   "cell_type": "code",
   "execution_count": 41,
   "id": "76b113ac",
   "metadata": {
    "collapsed": true
   },
   "outputs": [
    {
     "data": {
      "text/plain": [
       "'Učenec Jaka Novak ima ocene [4, 2, 3, 5]'"
      ]
     },
     "execution_count": 41,
     "metadata": {},
     "output_type": "execute_result"
    }
   ],
   "source": [
    "str(ucenec1)"
   ]
  },
  {
   "cell_type": "code",
   "execution_count": 42,
   "id": "78a25128",
   "metadata": {},
   "outputs": [
    {
     "name": "stdout",
     "output_type": "stream",
     "text": [
      "Učenec Jaka Novak ima ocene [4, 2, 3, 5]\n"
     ]
    }
   ],
   "source": [
    "print(ucenec1)"
   ]
  },
  {
   "cell_type": "markdown",
   "id": "4be484eb",
   "metadata": {},
   "source": [
    "Več o temu pa v Visual Studio Code ..."
   ]
  },
  {
   "cell_type": "code",
   "execution_count": null,
   "id": "ff8c152a",
   "metadata": {},
   "outputs": [],
   "source": []
  }
 ],
 "metadata": {
  "kernelspec": {
   "display_name": "Python 3",
   "language": "python",
   "name": "python3"
  },
  "language_info": {
   "codemirror_mode": {
    "name": "ipython",
    "version": 3
   },
   "file_extension": ".py",
   "mimetype": "text/x-python",
   "name": "python",
   "nbconvert_exporter": "python",
   "pygments_lexer": "ipython3",
   "version": "3.8.8"
  }
 },
 "nbformat": 4,
 "nbformat_minor": 5
}
