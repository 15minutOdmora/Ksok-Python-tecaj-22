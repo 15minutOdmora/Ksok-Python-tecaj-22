{
 "cells": [
  {
   "cell_type": "markdown",
   "id": "d154b59d",
   "metadata": {},
   "source": [
    "## Dedovanje med razredi in uporaba super"
   ]
  },
  {
   "cell_type": "code",
   "execution_count": 29,
   "id": "80277849",
   "metadata": {},
   "outputs": [],
   "source": [
    "# Osnovni razred (base class)\n",
    "\n",
    "TRENUTNO_LETO = 2022  # Konstanta, hranimo trenutno letnico\n",
    "\n",
    "class Oseba:\n",
    "    \n",
    "    def __init__(self, ime, priimek, letnica_rojstva):\n",
    "        self.ime = ime\n",
    "        self.priimek = priimek\n",
    "        self.letnica_rojstva = letnica_rojstva\n",
    "        \n",
    "    def starost(self):\n",
    "        return TRENUTNO_LETO - self.letnica_rojstva\n",
    "    \n",
    "    def __str__(self):\n",
    "        return f\"Oseba: {self.ime} {self.priimek}, star/a {self.starost()} let.\"        "
   ]
  },
  {
   "cell_type": "code",
   "execution_count": 150,
   "id": "8178df6b",
   "metadata": {},
   "outputs": [
    {
     "name": "stdout",
     "output_type": "stream",
     "text": [
      "Matej\n",
      "53\n"
     ]
    }
   ],
   "source": [
    "oseba1 = Oseba(\"Matej\", \"Novak\", 1969)\n",
    "\n",
    "print(oseba1.ime)\n",
    "print(oseba1.starost())"
   ]
  },
  {
   "cell_type": "code",
   "execution_count": 31,
   "id": "3db5e35e",
   "metadata": {},
   "outputs": [
    {
     "name": "stdout",
     "output_type": "stream",
     "text": [
      "Oseba: Matej Novak, star/a 53 let.\n"
     ]
    }
   ],
   "source": [
    "print(oseba1)"
   ]
  },
  {
   "cell_type": "markdown",
   "id": "278efd77",
   "metadata": {},
   "source": [
    "Recimo, da bi radi ustvarili razred, ki predstavlja delavca v našem podjetju. \n",
    "Ta delevec je seveda oseba in si lasti iste atribute (ime, priimek, ...). \n",
    "Kot delavec ima še dodatne lastnosti; leto pričetka dela, vrsta dela, ...\n",
    "\n",
    "Namesto, da ponovno ustvarjamo atribute za Osebo, lahko dedujemo po zgornjem razredu."
   ]
  },
  {
   "cell_type": "code",
   "execution_count": 69,
   "id": "02c720b1",
   "metadata": {},
   "outputs": [],
   "source": [
    "class Delavec(Oseba):\n",
    "    \n",
    "    def __init__(self, ime, priimek, letnica_rojstva, leto_pričetka_dela, vrsta_dela):\n",
    "        super().__init__(ime, priimek, letnica_rojstva)  # Podamo parametre razredu po katiremu dedujemo (Oseba)\n",
    "        \n",
    "        self.leto_pričetka_dela = leto_pričetka_dela\n",
    "        self.vrsta_dela = vrsta_dela\n",
    "\n",
    "    def menjaj_vrsto_dela(self, spremeni_v):\n",
    "        self.vrsta_dela = spremeni_v\n",
    "        \n",
    "    def delovna_doba(self):\n",
    "        return TRENUTNO_LETO - self.leto_pričetka_dela\n",
    "    \n",
    "    def procent_dela_v_zivljenju(self):\n",
    "        procent = round(self.delovna_doba() / self.starost(), 2)\n",
    "        return procent\n",
    "    \n",
    "    def __str__(self):\n",
    "        return f\"Delavec: {self.ime} {self.priimek} je pričel delo leta {self.leto_pričetka_dela}\"\n",
    "    "
   ]
  },
  {
   "cell_type": "code",
   "execution_count": 63,
   "id": "1d040490",
   "metadata": {},
   "outputs": [],
   "source": [
    "delavec1 = Delavec(\"Marko\", \"Novak\", 1988, 2000, \"Programer\")"
   ]
  },
  {
   "cell_type": "code",
   "execution_count": 52,
   "id": "57f19b0c",
   "metadata": {},
   "outputs": [
    {
     "data": {
      "text/plain": [
       "'Marko'"
      ]
     },
     "execution_count": 52,
     "metadata": {},
     "output_type": "execute_result"
    }
   ],
   "source": [
    "delavec1.ime"
   ]
  },
  {
   "cell_type": "code",
   "execution_count": 53,
   "id": "1446330f",
   "metadata": {},
   "outputs": [
    {
     "data": {
      "text/plain": [
       "1988"
      ]
     },
     "execution_count": 53,
     "metadata": {},
     "output_type": "execute_result"
    }
   ],
   "source": [
    "delavec1.leto_pričetka_dela"
   ]
  },
  {
   "cell_type": "code",
   "execution_count": 54,
   "id": "a1dd3f81",
   "metadata": {},
   "outputs": [
    {
     "data": {
      "text/plain": [
       "'Programer'"
      ]
     },
     "execution_count": 54,
     "metadata": {},
     "output_type": "execute_result"
    }
   ],
   "source": [
    "delavec1.vrsta_dela"
   ]
  },
  {
   "cell_type": "code",
   "execution_count": 55,
   "id": "a3bdcb8f",
   "metadata": {},
   "outputs": [
    {
     "data": {
      "text/plain": [
       "'Čiščenje'"
      ]
     },
     "execution_count": 55,
     "metadata": {},
     "output_type": "execute_result"
    }
   ],
   "source": [
    "delavec1.menjaj_vrsto_dela(\"Čiščenje\")\n",
    "\n",
    "delavec1.vrsta_dela"
   ]
  },
  {
   "cell_type": "code",
   "execution_count": 56,
   "id": "5c035db8",
   "metadata": {},
   "outputs": [
    {
     "data": {
      "text/plain": [
       "34"
      ]
     },
     "execution_count": 56,
     "metadata": {},
     "output_type": "execute_result"
    }
   ],
   "source": [
    "delavec1.delovna_doba()"
   ]
  },
  {
   "cell_type": "code",
   "execution_count": 64,
   "id": "f3182229",
   "metadata": {},
   "outputs": [
    {
     "data": {
      "text/plain": [
       "'65.0 %'"
      ]
     },
     "execution_count": 64,
     "metadata": {},
     "output_type": "execute_result"
    }
   ],
   "source": [
    "f\"{delavec1.procent_dela_v_zivljenju() * 100} %\""
   ]
  },
  {
   "cell_type": "code",
   "execution_count": 35,
   "id": "f1543728",
   "metadata": {
    "collapsed": true
   },
   "outputs": [
    {
     "data": {
      "text/plain": [
       "'Delavec: Marko Novak je pričel delo leta 2017'"
      ]
     },
     "execution_count": 35,
     "metadata": {},
     "output_type": "execute_result"
    }
   ],
   "source": [
    "str(delavec1)"
   ]
  },
  {
   "cell_type": "code",
   "execution_count": null,
   "id": "2fe4be43",
   "metadata": {},
   "outputs": [],
   "source": []
  },
  {
   "cell_type": "markdown",
   "id": "79ba6fad",
   "metadata": {},
   "source": [
    "#### Kakšnega tipa je delavec1?"
   ]
  },
  {
   "cell_type": "code",
   "execution_count": 71,
   "id": "edbb0f10",
   "metadata": {},
   "outputs": [
    {
     "data": {
      "text/plain": [
       "'Delavec'"
      ]
     },
     "execution_count": 71,
     "metadata": {},
     "output_type": "execute_result"
    }
   ],
   "source": [
    "type(delavec1).__name__"
   ]
  },
  {
   "cell_type": "code",
   "execution_count": 72,
   "id": "0b0b03a0",
   "metadata": {},
   "outputs": [
    {
     "data": {
      "text/plain": [
       "(__main__.Delavec, __main__.Oseba, object)"
      ]
     },
     "execution_count": 72,
     "metadata": {},
     "output_type": "execute_result"
    }
   ],
   "source": [
    "type(delavec1).__mro__"
   ]
  },
  {
   "cell_type": "markdown",
   "id": "2d3632e0",
   "metadata": {},
   "source": [
    "## Magične metode\n",
    "(Na kratko)"
   ]
  },
  {
   "cell_type": "markdown",
   "id": "aed04f3a",
   "metadata": {},
   "source": [
    "Gre za metode, ki jih dodamo k razredu in s tem povozimo določene funkcionalnosti objekta."
   ]
  },
  {
   "cell_type": "markdown",
   "id": "2dff9b9b",
   "metadata": {},
   "source": [
    "Primer na vektorju; 2-dimenzionalen vektor je v matematiki par števil x, y, ki predstavlja točko na ravnini (je tudi usmerjen)."
   ]
  },
  {
   "cell_type": "markdown",
   "id": "e57f23c6",
   "metadata": {},
   "source": [
    "Ustvarili bi razred vektor, ki predstavlja le tega. \n",
    "\n",
    "Kje nastopijo magične metode? \n",
    "\n",
    "Če želimo zares predstaviti vektor mora biti možno naslednje: \n",
    "\n",
    "    Seštevanje dveh vektorjev; Vektor(1, 2) + Vektor(2, 3) = Vektor(3, 5) Seštevanje po komponentah\n",
    "    \n",
    "    Množenje z številom; Vektor(1, 2) * 5 = Vektor(5, 10)\n",
    "    \n",
    "    Množenje dveh vektorjev; Vektor(1, 2) * Vektor(3, 2) = 1 * 3 + 2 * 2 = 7  Skalarni produkt\n",
    "    \n",
    "To lahko v Pythonu ustvarimo z Magičnimi metodami, tako, da povemo kako naj seštevamo oz množimo z objektom:"
   ]
  },
  {
   "cell_type": "code",
   "execution_count": 100,
   "id": "18f98046",
   "metadata": {},
   "outputs": [],
   "source": [
    "class Vektor:\n",
    "    def __init__(self, x = 0, y = 0):\n",
    "        self.x = x\n",
    "        self.y = y\n",
    "        \n",
    "    def __add__(self, other):  # Predstavlja operacijo + med tem objektom in nekim drugim (drugi parameter; other)\n",
    "        return Vektor(self.x + other.x, self.y + other.y)\n",
    "    \n",
    "    def __mul__(self, other):  # Predstavlja operacijo * med tem objektom in nekim drugim (drugi parameter; other)\n",
    "        if type(other) is int or type(other) is float:\n",
    "            return Vektor(self.x * other, self.y * other)\n",
    "        else:\n",
    "            return self.x * other.x + self.y * other.y\n",
    "        \n",
    "    def __str__(self):\n",
    "        return f\"Vektor({self.x}, {self.y})\"\n",
    "    \n",
    "    def __repr__(self):\n",
    "        return self.__str__()"
   ]
  },
  {
   "cell_type": "code",
   "execution_count": 102,
   "id": "4565fb80",
   "metadata": {},
   "outputs": [],
   "source": [
    "a = Vektor(1, 2)\n",
    "b = Vektor(2, 3)"
   ]
  },
  {
   "cell_type": "code",
   "execution_count": 98,
   "id": "03e7a2e6",
   "metadata": {},
   "outputs": [
    {
     "data": {
      "text/plain": [
       "8"
      ]
     },
     "execution_count": 98,
     "metadata": {},
     "output_type": "execute_result"
    }
   ],
   "source": [
    "a * b"
   ]
  },
  {
   "cell_type": "code",
   "execution_count": 92,
   "id": "e8d4d8df",
   "metadata": {},
   "outputs": [
    {
     "data": {
      "text/plain": [
       "Vektor(3, 5)"
      ]
     },
     "execution_count": 92,
     "metadata": {},
     "output_type": "execute_result"
    }
   ],
   "source": [
    "a + b"
   ]
  },
  {
   "cell_type": "code",
   "execution_count": 56,
   "id": "00ad9c9d",
   "metadata": {
    "collapsed": true
   },
   "outputs": [
    {
     "data": {
      "text/plain": [
       "Vektor(3, 6)"
      ]
     },
     "execution_count": 56,
     "metadata": {},
     "output_type": "execute_result"
    }
   ],
   "source": [
    "a * 3"
   ]
  },
  {
   "cell_type": "code",
   "execution_count": 103,
   "id": "f6a37b72",
   "metadata": {},
   "outputs": [
    {
     "data": {
      "text/plain": [
       "Hello"
      ]
     },
     "execution_count": 103,
     "metadata": {},
     "output_type": "execute_result"
    }
   ],
   "source": [
    "print(b)"
   ]
  },
  {
   "cell_type": "markdown",
   "id": "70992a21",
   "metadata": {},
   "source": [
    "## List comprehension"
   ]
  },
  {
   "cell_type": "code",
   "execution_count": 106,
   "id": "a52e1fe5",
   "metadata": {},
   "outputs": [
    {
     "data": {
      "text/plain": [
       "[0, 1, 2, 3, 4, 5, 6, 7, 8, 9]"
      ]
     },
     "execution_count": 106,
     "metadata": {},
     "output_type": "execute_result"
    }
   ],
   "source": [
    "sez = [i for i in range(10)]\n",
    "sez"
   ]
  },
  {
   "cell_type": "code",
   "execution_count": 107,
   "id": "18c75099",
   "metadata": {},
   "outputs": [
    {
     "data": {
      "text/plain": [
       "[0, 1, 4, 9, 16, 25, 36, 49, 64, 81]"
      ]
     },
     "execution_count": 107,
     "metadata": {},
     "output_type": "execute_result"
    }
   ],
   "source": [
    "sez_kvadrati = [i ** 2 for i in sez]\n",
    "sez_kvadrati"
   ]
  },
  {
   "cell_type": "markdown",
   "id": "58f9c049",
   "metadata": {},
   "source": [
    "#### If statement in list comprehension"
   ]
  },
  {
   "cell_type": "code",
   "execution_count": 113,
   "id": "2a4211c5",
   "metadata": {},
   "outputs": [
    {
     "data": {
      "text/plain": [
       "[0, 1, 2, 3, 4, 5, 6, 7, 8, 9, 10, 11, 12, 13, 14, 15, 16, 17, 18, 19]"
      ]
     },
     "execution_count": 113,
     "metadata": {},
     "output_type": "execute_result"
    }
   ],
   "source": [
    "seznam = [i for i in range(0, 20)]\n",
    "seznam"
   ]
  },
  {
   "cell_type": "code",
   "execution_count": 114,
   "id": "51286754",
   "metadata": {},
   "outputs": [
    {
     "data": {
      "text/plain": [
       "[0, 2, 4, 6, 8, 10, 12, 14, 16, 18]"
      ]
     },
     "execution_count": 114,
     "metadata": {},
     "output_type": "execute_result"
    }
   ],
   "source": [
    "parna_stevila = [i for i in seznam if i % 2 == 0]\n",
    "parna_stevila"
   ]
  },
  {
   "cell_type": "code",
   "execution_count": 110,
   "id": "aacbb963",
   "metadata": {},
   "outputs": [
    {
     "data": {
      "text/plain": [
       "[1, 3, 5, 7, 9, 11, 13, 15, 17, 19]"
      ]
     },
     "execution_count": 110,
     "metadata": {},
     "output_type": "execute_result"
    }
   ],
   "source": [
    "neparna_stevila = [i for i in seznam if i % 2 != 0]\n",
    "neparna_stevila"
   ]
  },
  {
   "cell_type": "markdown",
   "id": "c95ef849",
   "metadata": {},
   "source": [
    "#### If else in list comprehension"
   ]
  },
  {
   "cell_type": "code",
   "execution_count": 115,
   "id": "9804fa4a",
   "metadata": {},
   "outputs": [
    {
     "data": {
      "text/plain": [
       "['sodo',\n",
       " 'liho',\n",
       " 'sodo',\n",
       " 'liho',\n",
       " 'sodo',\n",
       " 'liho',\n",
       " 'sodo',\n",
       " 'liho',\n",
       " 'sodo',\n",
       " 'liho']"
      ]
     },
     "execution_count": 115,
     "metadata": {},
     "output_type": "execute_result"
    }
   ],
   "source": [
    "soda_liha = [\"sodo\" if i % 2 == 0 else \"liho\" for i in range(10)]\n",
    "soda_liha"
   ]
  },
  {
   "cell_type": "markdown",
   "id": "cef322e4",
   "metadata": {},
   "source": [
    "#### Nested list comprehension"
   ]
  },
  {
   "cell_type": "code",
   "execution_count": 116,
   "id": "94adf720",
   "metadata": {},
   "outputs": [
    {
     "data": {
      "text/plain": [
       "[[(0, 0), (0, 1), (0, 2), (0, 3), (0, 4)],\n",
       " [(1, 0), (1, 1), (1, 2), (1, 3), (1, 4)],\n",
       " [(2, 0), (2, 1), (2, 2), (2, 3), (2, 4)],\n",
       " [(3, 0), (3, 1), (3, 2), (3, 3), (3, 4)],\n",
       " [(4, 0), (4, 1), (4, 2), (4, 3), (4, 4)]]"
      ]
     },
     "execution_count": 116,
     "metadata": {},
     "output_type": "execute_result"
    }
   ],
   "source": [
    "N = 5\n",
    "matrika = [[(i, j) for j in range(N)] for i in range(N)]\n",
    "matrika"
   ]
  },
  {
   "cell_type": "markdown",
   "id": "a43a8236",
   "metadata": {},
   "source": [
    "#### Dictionary comprehension?"
   ]
  },
  {
   "cell_type": "code",
   "execution_count": 117,
   "id": "05da57e3",
   "metadata": {},
   "outputs": [
    {
     "data": {
      "text/plain": [
       "{0: 0,\n",
       " 1: 1,\n",
       " 2: 4,\n",
       " 3: 9,\n",
       " 4: 16,\n",
       " 5: 25,\n",
       " 6: 36,\n",
       " 7: 49,\n",
       " 8: 64,\n",
       " 9: 81,\n",
       " 10: 100,\n",
       " 11: 121,\n",
       " 12: 144,\n",
       " 13: 169,\n",
       " 14: 196}"
      ]
     },
     "execution_count": 117,
     "metadata": {},
     "output_type": "execute_result"
    }
   ],
   "source": [
    "slovar_kvadratov = {i: i ** 2 for i in range(15)}\n",
    "slovar_kvadratov"
   ]
  },
  {
   "cell_type": "code",
   "execution_count": 118,
   "id": "79633f94",
   "metadata": {},
   "outputs": [
    {
     "data": {
      "text/plain": [
       "169"
      ]
     },
     "execution_count": 118,
     "metadata": {},
     "output_type": "execute_result"
    }
   ],
   "source": [
    "slovar_kvadratov[13]"
   ]
  },
  {
   "cell_type": "markdown",
   "id": "75ff15fe",
   "metadata": {},
   "source": [
    "### Iterators (primer)"
   ]
  },
  {
   "cell_type": "markdown",
   "id": "3b5e7af7",
   "metadata": {},
   "source": [
    "Iteratorji so objekti po katerih lahko iteriramo (npr. z for zanko). Iterator lahko ustvarimo tudi z funkcijo."
   ]
  },
  {
   "cell_type": "code",
   "execution_count": 120,
   "id": "d46226a2",
   "metadata": {},
   "outputs": [],
   "source": [
    "seznam = [i for i in range(10)]\n",
    "\n",
    "def moj_iterator_kvadratov():\n",
    "    for i in seznam:\n",
    "        yield i ** 2"
   ]
  },
  {
   "cell_type": "code",
   "execution_count": 122,
   "id": "df8bccec",
   "metadata": {},
   "outputs": [
    {
     "name": "stdout",
     "output_type": "stream",
     "text": [
      "0\n",
      "1\n",
      "4\n",
      "9\n",
      "16\n",
      "25\n",
      "36\n",
      "49\n",
      "64\n",
      "81\n"
     ]
    },
    {
     "data": {
      "text/plain": [
       "[0, 1, 2, 3, 4, 5, 6, 7, 8, 9]"
      ]
     },
     "execution_count": 122,
     "metadata": {},
     "output_type": "execute_result"
    }
   ],
   "source": [
    "for kvadrat in moj_iterator_kvadratov():\n",
    "    print(kvadrat)\n",
    "\n",
    "seznam"
   ]
  },
  {
   "cell_type": "markdown",
   "id": "0f48474d",
   "metadata": {},
   "source": [
    "Objekt oz. razredu lahko dodamo možnost iteracije z uporabo magične metode __iter__. \n",
    "Če pretvorimo zgornji razred Vektor v 3-dimenzionalnega, tako, da lahko skozi vredsnoti njegovih komponent iteriramo (torej skozi x, y, z)."
   ]
  },
  {
   "cell_type": "code",
   "execution_count": 127,
   "id": "145068b2",
   "metadata": {},
   "outputs": [],
   "source": [
    "class Vektor:\n",
    "    def __init__(self, x = 0, y = 0, z = 0):\n",
    "        self.x = x\n",
    "        self.y = y\n",
    "        self.z = z\n",
    "        \n",
    "    def __iter__(self):\n",
    "        yield self.x\n",
    "        yield self.y\n",
    "        yield self.z"
   ]
  },
  {
   "cell_type": "code",
   "execution_count": 128,
   "id": "24107a41",
   "metadata": {},
   "outputs": [
    {
     "name": "stdout",
     "output_type": "stream",
     "text": [
      "1\n",
      "3\n",
      "2\n"
     ]
    }
   ],
   "source": [
    "vektor = Vektor(1, 2, 3)\n",
    "\n",
    "for komponenta in vektor:\n",
    "    print(komponenta)"
   ]
  },
  {
   "cell_type": "markdown",
   "id": "537cea09",
   "metadata": {},
   "source": [
    "## Try Except"
   ]
  },
  {
   "cell_type": "markdown",
   "id": "e8130233",
   "metadata": {},
   "source": [
    "V drugih jezikih Try Catch; probaj, če ne gre, ulovi."
   ]
  },
  {
   "cell_type": "code",
   "execution_count": 134,
   "id": "23fe06a7",
   "metadata": {},
   "outputs": [
    {
     "name": "stdout",
     "output_type": "stream",
     "text": [
      "Napaka :(\n",
      "Finally\n"
     ]
    }
   ],
   "source": [
    "try:\n",
    "    print(10 / 0)\n",
    "    print(\"Hello\")\n",
    "except:\n",
    "    print(\"Napaka :(\")"
   ]
  },
  {
   "cell_type": "markdown",
   "id": "da2c1d87",
   "metadata": {},
   "source": [
    "#### Kako vemo katira napaka se je zgodila?"
   ]
  },
  {
   "cell_type": "markdown",
   "id": "3acb4e46",
   "metadata": {},
   "source": [
    "except prejme napako, ki jo lahko shranimo v spremenljivko."
   ]
  },
  {
   "cell_type": "code",
   "execution_count": 147,
   "id": "926b4274",
   "metadata": {},
   "outputs": [
    {
     "name": "stdout",
     "output_type": "stream",
     "text": [
      "ZeroDivisionError\n"
     ]
    }
   ],
   "source": [
    "try:\n",
    "    print(10 / 0)\n",
    "except Exception as e:\n",
    "    print(type(e).__name__)"
   ]
  },
  {
   "cell_type": "markdown",
   "id": "b3a7fa7d",
   "metadata": {},
   "source": [
    "Exception je osnovni razred napak iz nje vse ostale dedujejo. \n",
    "\n",
    "Ko uporabimo except Exception \"ulovimo\" vse napake. Če želimo uloviti le določene moremo te definirati v stavku:"
   ]
  },
  {
   "cell_type": "code",
   "execution_count": 148,
   "id": "808c988c",
   "metadata": {},
   "outputs": [
    {
     "name": "stdout",
     "output_type": "stream",
     "text": [
      "Zgodila se je neznana napaka tipa: <class 'ZeroDivisionError'>\n"
     ]
    }
   ],
   "source": [
    "try:\n",
    "    print(10 / 0)\n",
    "except Exception as e:\n",
    "    print(f\"Zgodila se je neznana napaka tipa: {type(e)}\")\n",
    "except ZeroDivisionError:\n",
    "    print(\"Deliti z 0 ni možno :(\")"
   ]
  },
  {
   "cell_type": "code",
   "execution_count": null,
   "id": "dddf8610",
   "metadata": {},
   "outputs": [],
   "source": []
  }
 ],
 "metadata": {
  "kernelspec": {
   "display_name": "Python 3",
   "language": "python",
   "name": "python3"
  },
  "language_info": {
   "codemirror_mode": {
    "name": "ipython",
    "version": 3
   },
   "file_extension": ".py",
   "mimetype": "text/x-python",
   "name": "python",
   "nbconvert_exporter": "python",
   "pygments_lexer": "ipython3",
   "version": "3.8.8"
  }
 },
 "nbformat": 4,
 "nbformat_minor": 5
}
