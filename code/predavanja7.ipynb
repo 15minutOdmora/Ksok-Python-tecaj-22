{
 "cells": [
  {
   "cell_type": "markdown",
   "id": "2312ff33",
   "metadata": {},
   "source": [
    "# Modules"
   ]
  },
  {
   "cell_type": "markdown",
   "id": "ab588ce6",
   "metadata": {},
   "source": [
    "## Privzeti moduli"
   ]
  },
  {
   "cell_type": "markdown",
   "id": "5fa1dbd5",
   "metadata": {},
   "source": [
    "Moduli, ki so vsebovani v standardnem Python jeziku.\n",
    "\n",
    "Nekaj primerov najbolj uporabljenih:\n",
    "- os\n",
    "- urllib\n",
    "- time\n",
    "- threading\n",
    "- random\n",
    "- math\n",
    "- datetime\n",
    "- csv\n",
    "- json"
   ]
  },
  {
   "cell_type": "markdown",
   "id": "940240b5",
   "metadata": {},
   "source": [
    "### Random\n",
    "\n",
    "Za generiranje naključnih števil."
   ]
  },
  {
   "cell_type": "code",
   "execution_count": 58,
   "id": "94442bcf",
   "metadata": {},
   "outputs": [],
   "source": [
    "import random\n",
    "# import random as rnd\n",
    "# from random import *"
   ]
  },
  {
   "cell_type": "code",
   "execution_count": 57,
   "id": "28205204",
   "metadata": {},
   "outputs": [
    {
     "data": {
      "text/plain": [
       "0.28416713947458483"
      ]
     },
     "execution_count": 57,
     "metadata": {},
     "output_type": "execute_result"
    }
   ],
   "source": [
    "random.random()  # Naključno število med 0 in 1"
   ]
  },
  {
   "cell_type": "code",
   "execution_count": 60,
   "id": "f7e7ae39",
   "metadata": {},
   "outputs": [
    {
     "data": {
      "text/plain": [
       "7"
      ]
     },
     "execution_count": 60,
     "metadata": {},
     "output_type": "execute_result"
    }
   ],
   "source": [
    "random.randint(1, 10)  # Naključno celo število od 1 do vključno 10"
   ]
  },
  {
   "cell_type": "code",
   "execution_count": 55,
   "id": "f83d4657",
   "metadata": {},
   "outputs": [
    {
     "data": {
      "text/plain": [
       "'Jan'"
      ]
     },
     "execution_count": 55,
     "metadata": {},
     "output_type": "execute_result"
    }
   ],
   "source": [
    "seznam = [\"Jan\", \"Matija\", \"Maja\", \"Nika\", \"Urša\", \"Luka\"]\n",
    "\n",
    "random.choice(seznam)  # Naključno izbere enega iz seznama, tupla, množice"
   ]
  },
  {
   "cell_type": "markdown",
   "id": "beb82266",
   "metadata": {},
   "source": [
    "### Time\n",
    "\n",
    "Za upravljanje s časom, pretvorbe, ..."
   ]
  },
  {
   "cell_type": "code",
   "execution_count": 62,
   "id": "ffa369c2",
   "metadata": {},
   "outputs": [],
   "source": [
    "import time"
   ]
  },
  {
   "cell_type": "code",
   "execution_count": 63,
   "id": "332f5cfe",
   "metadata": {},
   "outputs": [
    {
     "data": {
      "text/plain": [
       "1652285058.6710987"
      ]
     },
     "execution_count": 63,
     "metadata": {},
     "output_type": "execute_result"
    }
   ],
   "source": [
    "time.time()  # Trenutno št. sekund od epocha"
   ]
  },
  {
   "cell_type": "code",
   "execution_count": 67,
   "id": "d15ada63",
   "metadata": {},
   "outputs": [
    {
     "name": "stdout",
     "output_type": "stream",
     "text": [
      "Hello\n"
     ]
    }
   ],
   "source": [
    "time.sleep(1)  # Program \"spi\" za 1 sekundo"
   ]
  },
  {
   "cell_type": "markdown",
   "id": "a0d25fcf",
   "metadata": {},
   "source": [
    "Uporabno za merjenje časa izvajanja."
   ]
  },
  {
   "cell_type": "code",
   "execution_count": 68,
   "id": "37c1d1c3",
   "metadata": {},
   "outputs": [
    {
     "name": "stdout",
     "output_type": "stream",
     "text": [
      "Čas izvajanja: 2.713595151901245s\n"
     ]
    }
   ],
   "source": [
    "zacetek = time.time()\n",
    "\n",
    "time.sleep(2.7)  # Spimo 2.5 sekund\n",
    "\n",
    "konec = time.time()\n",
    "\n",
    "print(f\"Čas izvajanja: {konec - zacetek}s\")"
   ]
  },
  {
   "cell_type": "markdown",
   "id": "0b9a8f13",
   "metadata": {},
   "source": [
    "### Datetime\n",
    "\n",
    "Za upravljanje z datumi."
   ]
  },
  {
   "cell_type": "code",
   "execution_count": 70,
   "id": "bccead40",
   "metadata": {},
   "outputs": [],
   "source": [
    "import datetime"
   ]
  },
  {
   "cell_type": "code",
   "execution_count": 71,
   "id": "8fd7c85d",
   "metadata": {},
   "outputs": [
    {
     "data": {
      "text/plain": [
       "datetime.datetime(2022, 5, 11, 18, 9, 21, 856865)"
      ]
     },
     "execution_count": 71,
     "metadata": {},
     "output_type": "execute_result"
    }
   ],
   "source": [
    "danes = datetime.datetime.now()  # Trenuten datum in čas\n",
    "danes"
   ]
  },
  {
   "cell_type": "code",
   "execution_count": 72,
   "id": "a00dd622",
   "metadata": {},
   "outputs": [
    {
     "data": {
      "text/plain": [
       "2022"
      ]
     },
     "execution_count": 72,
     "metadata": {},
     "output_type": "execute_result"
    }
   ],
   "source": [
    "danes.year"
   ]
  },
  {
   "cell_type": "code",
   "execution_count": 73,
   "id": "db9eb178",
   "metadata": {},
   "outputs": [
    {
     "data": {
      "text/plain": [
       "5"
      ]
     },
     "execution_count": 73,
     "metadata": {},
     "output_type": "execute_result"
    }
   ],
   "source": [
    "danes.month"
   ]
  },
  {
   "cell_type": "code",
   "execution_count": 74,
   "id": "94ca4256",
   "metadata": {},
   "outputs": [
    {
     "data": {
      "text/plain": [
       "11"
      ]
     },
     "execution_count": 74,
     "metadata": {},
     "output_type": "execute_result"
    }
   ],
   "source": [
    "danes.day"
   ]
  },
  {
   "cell_type": "code",
   "execution_count": 77,
   "id": "22d8c1d9",
   "metadata": {},
   "outputs": [
    {
     "data": {
      "text/plain": [
       "9"
      ]
     },
     "execution_count": 77,
     "metadata": {},
     "output_type": "execute_result"
    }
   ],
   "source": [
    "danes.minute"
   ]
  },
  {
   "cell_type": "markdown",
   "id": "ce4c599f",
   "metadata": {},
   "source": [
    "#### Formatting"
   ]
  },
  {
   "cell_type": "code",
   "execution_count": 81,
   "id": "49948eb1",
   "metadata": {},
   "outputs": [
    {
     "data": {
      "text/plain": [
       "'11/05/2022 cas: 18:15:00'"
      ]
     },
     "execution_count": 81,
     "metadata": {},
     "output_type": "execute_result"
    }
   ],
   "source": [
    "# danes.strftime(\"%d/%m/%Y čas: %H:%M:%S\")\n",
    "datetime.datetime.now().strftime(\"%d/%m/%Y čas: %H:%M:%S\")"
   ]
  },
  {
   "cell_type": "markdown",
   "id": "346e7d2c",
   "metadata": {},
   "source": [
    "### Math\n",
    "\n",
    "Za različne matematične funkcije, ki niso implementirane v standardnem pythonu."
   ]
  },
  {
   "cell_type": "code",
   "execution_count": 1,
   "id": "123e55e5",
   "metadata": {},
   "outputs": [],
   "source": [
    "import math"
   ]
  },
  {
   "cell_type": "code",
   "execution_count": 2,
   "id": "eabe9ddd",
   "metadata": {},
   "outputs": [
    {
     "data": {
      "text/plain": [
       "0.479425538604203"
      ]
     },
     "execution_count": 2,
     "metadata": {},
     "output_type": "execute_result"
    }
   ],
   "source": [
    "math.sin(0.5)"
   ]
  },
  {
   "cell_type": "code",
   "execution_count": 82,
   "id": "a06133a6",
   "metadata": {},
   "outputs": [
    {
     "data": {
      "text/plain": [
       "3.141592653589793"
      ]
     },
     "execution_count": 82,
     "metadata": {},
     "output_type": "execute_result"
    }
   ],
   "source": [
    "math.pi"
   ]
  },
  {
   "cell_type": "code",
   "execution_count": 83,
   "id": "f90cb8f2",
   "metadata": {},
   "outputs": [
    {
     "data": {
      "text/plain": [
       "3.0"
      ]
     },
     "execution_count": 83,
     "metadata": {},
     "output_type": "execute_result"
    }
   ],
   "source": [
    "math.sqrt(9)"
   ]
  },
  {
   "cell_type": "code",
   "execution_count": 87,
   "id": "bd15626c",
   "metadata": {},
   "outputs": [
    {
     "data": {
      "text/plain": [
       "256.0"
      ]
     },
     "execution_count": 87,
     "metadata": {},
     "output_type": "execute_result"
    }
   ],
   "source": [
    "math.pow(2, 8)"
   ]
  },
  {
   "cell_type": "markdown",
   "id": "42d8a2f8",
   "metadata": {},
   "source": [
    "## Delanje z datotekami\n",
    "\n",
    "Uporaben vir: https://www.w3schools.com/python/python_file_handling.asp"
   ]
  },
  {
   "cell_type": "markdown",
   "id": "fe341130",
   "metadata": {},
   "source": [
    "### Branje (read)"
   ]
  },
  {
   "cell_type": "code",
   "execution_count": 97,
   "id": "8076377a",
   "metadata": {},
   "outputs": [],
   "source": [
    "file = open(\"file_actions/data/dallas_players.txt\", \"r\")"
   ]
  },
  {
   "cell_type": "code",
   "execution_count": 90,
   "id": "13d19f54",
   "metadata": {},
   "outputs": [
    {
     "data": {
      "text/plain": [
       "'Davis Bertans 44 SF 29 6\\'10\" 225lbs -- $16000000\\n'"
      ]
     },
     "execution_count": 90,
     "metadata": {},
     "output_type": "execute_result"
    }
   ],
   "source": [
    "file.readline()"
   ]
  },
  {
   "cell_type": "code",
   "execution_count": 93,
   "id": "8e9312f5",
   "metadata": {},
   "outputs": [
    {
     "data": {
      "text/plain": [
       "[]"
      ]
     },
     "execution_count": 93,
     "metadata": {},
     "output_type": "execute_result"
    }
   ],
   "source": [
    "file.readlines()"
   ]
  },
  {
   "cell_type": "code",
   "execution_count": 98,
   "id": "4eb8f466",
   "metadata": {},
   "outputs": [
    {
     "name": "stdout",
     "output_type": "stream",
     "text": [
      "Name Surname Number Position Age Height Weight College Salary\n",
      "Davis Bertans 44 SF 29 6'10\" 225lbs -- $16000000\n",
      "Sterling Brown 0 SF 27 6'5\" 219lbs SMU $3000000\n",
      "Jalen Brunson 13 PG 25 6'1\" 190lbs Villanova $1802057\n",
      "Reggie Bullock 25 SF 31 6'6\" 205lbs NorthCarolina $9536000\n",
      "Trey Burke 3 PG 29 6'0\" 185lbs Michigan $3150000\n",
      "Marquese Chriss 32 SF 24 6'9\" 240lbs Washington $958529\n",
      "Spencer Dinwiddie 26 PG 29 6'6\" 215lbs Colorado $17142857\n",
      "Luka Doncic 77 PG 23 6'7\" 230lbs -- $10174391\n",
      "Dorian Finney-Smith 10 PF 29 6'7\" 220lbs Florida $4000000\n",
      "Josh Green 8 SG 21 6'5\" 200lbs Arizona $2957520\n",
      "Tim Hardaway 11 SF 30 6'5\" 205lbs Michigan $21308816\n",
      "Maxi Kleber 42 PF 30 6'10\" 240lbs -- $8975000\n",
      "Brandon Knight 20 PG 30 6'2\" 182lbs Kentucky $1000\n",
      "Boban Marjanovic 51 C 33 7'3\" 290lbs -- $3500000\n",
      "Frank Ntilikina 21 PG 23 6'4\" 200lbs -- $1669178\n",
      "Theo Pinson 1 G 26 6'5\" 212lbs NorthCarolina $1000\n",
      "Dwight Powell 7 C 30 6'10\" 240lbs Stanford $11080125\n",
      "Moses Wright 5 F 23 6'8\" 226lbs GeorgiaTech $1000"
     ]
    }
   ],
   "source": [
    "for line in file:\n",
    "    print(line, end=\"\")"
   ]
  },
  {
   "cell_type": "code",
   "execution_count": 99,
   "id": "3c1da671",
   "metadata": {},
   "outputs": [],
   "source": [
    "file.close()"
   ]
  },
  {
   "cell_type": "markdown",
   "id": "234ea4df",
   "metadata": {},
   "source": [
    "#### Bolje z with open"
   ]
  },
  {
   "cell_type": "code",
   "execution_count": 100,
   "id": "87dab6bb",
   "metadata": {},
   "outputs": [
    {
     "data": {
      "text/plain": [
       "['Name Surname Number Position Age Height Weight College Salary\\n',\n",
       " 'Davis Bertans 44 SF 29 6\\'10\" 225lbs -- $16000000\\n',\n",
       " 'Sterling Brown 0 SF 27 6\\'5\" 219lbs SMU $3000000\\n',\n",
       " 'Jalen Brunson 13 PG 25 6\\'1\" 190lbs Villanova $1802057\\n',\n",
       " 'Reggie Bullock 25 SF 31 6\\'6\" 205lbs NorthCarolina $9536000\\n',\n",
       " 'Trey Burke 3 PG 29 6\\'0\" 185lbs Michigan $3150000\\n',\n",
       " 'Marquese Chriss 32 SF 24 6\\'9\" 240lbs Washington $958529\\n',\n",
       " 'Spencer Dinwiddie 26 PG 29 6\\'6\" 215lbs Colorado $17142857\\n',\n",
       " 'Luka Doncic 77 PG 23 6\\'7\" 230lbs -- $10174391\\n',\n",
       " 'Dorian Finney-Smith 10 PF 29 6\\'7\" 220lbs Florida $4000000\\n',\n",
       " 'Josh Green 8 SG 21 6\\'5\" 200lbs Arizona $2957520\\n',\n",
       " 'Tim Hardaway 11 SF 30 6\\'5\" 205lbs Michigan $21308816\\n',\n",
       " 'Maxi Kleber 42 PF 30 6\\'10\" 240lbs -- $8975000\\n',\n",
       " 'Brandon Knight 20 PG 30 6\\'2\" 182lbs Kentucky $1000\\n',\n",
       " 'Boban Marjanovic 51 C 33 7\\'3\" 290lbs -- $3500000\\n',\n",
       " 'Frank Ntilikina 21 PG 23 6\\'4\" 200lbs -- $1669178\\n',\n",
       " 'Theo Pinson 1 G 26 6\\'5\" 212lbs NorthCarolina $1000\\n',\n",
       " 'Dwight Powell 7 C 30 6\\'10\" 240lbs Stanford $11080125\\n',\n",
       " 'Moses Wright 5 F 23 6\\'8\" 226lbs GeorgiaTech $1000']"
      ]
     },
     "execution_count": 100,
     "metadata": {},
     "output_type": "execute_result"
    }
   ],
   "source": [
    "with open(\"file_actions/data/dallas_players.txt\", \"r\") as f:\n",
    "    lines = f.readlines()\n",
    "# Datoteka se tukaj zapre, to omogoči uporaba with open\n",
    "lines"
   ]
  },
  {
   "cell_type": "markdown",
   "id": "fe1ddcfc",
   "metadata": {},
   "source": [
    "### Pisanje (write)"
   ]
  },
  {
   "cell_type": "code",
   "execution_count": 109,
   "id": "e914e0ad",
   "metadata": {},
   "outputs": [],
   "source": [
    "with open(\"file_actions/new_file.txt\", \"w\") as f:\n",
    "    f.write(\"Hello\" + \"\\n\")"
   ]
  },
  {
   "cell_type": "markdown",
   "id": "fe6a8be0",
   "metadata": {},
   "source": [
    "#### Več vrstic od enkrat"
   ]
  },
  {
   "cell_type": "code",
   "execution_count": 113,
   "id": "567bcdbc",
   "metadata": {},
   "outputs": [],
   "source": [
    "vrstice = [\n",
    "    \"Prva vrstica\", \n",
    "    \"Druga vrstica\", \n",
    "    \"Tretja\"\n",
    "]\n",
    "\n",
    "with open(\"new_file.txt\", \"w\") as f:\n",
    "    f.writelines(vrstice)"
   ]
  },
  {
   "cell_type": "code",
   "execution_count": 114,
   "id": "04501ad4",
   "metadata": {},
   "outputs": [],
   "source": [
    "with open(\"new_file.txt\", \"w\") as f:\n",
    "    f.writelines(vrstica + \"\\n\" for vrstica in vrstice)"
   ]
  },
  {
   "cell_type": "code",
   "execution_count": null,
   "id": "58c5616f",
   "metadata": {},
   "outputs": [],
   "source": []
  }
 ],
 "metadata": {
  "kernelspec": {
   "display_name": "Python 3",
   "language": "python",
   "name": "python3"
  },
  "language_info": {
   "codemirror_mode": {
    "name": "ipython",
    "version": 3
   },
   "file_extension": ".py",
   "mimetype": "text/x-python",
   "name": "python",
   "nbconvert_exporter": "python",
   "pygments_lexer": "ipython3",
   "version": "3.8.8"
  }
 },
 "nbformat": 4,
 "nbformat_minor": 5
}
