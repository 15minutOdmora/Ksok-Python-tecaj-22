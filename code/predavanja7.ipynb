{
 "cells": [
  {
   "cell_type": "markdown",
   "id": "2312ff33",
   "metadata": {},
   "source": [
    "# Modules"
   ]
  },
  {
   "cell_type": "markdown",
   "id": "ab588ce6",
   "metadata": {},
   "source": [
    "## Privzeti moduli"
   ]
  },
  {
   "cell_type": "markdown",
   "id": "5fa1dbd5",
   "metadata": {},
   "source": [
    "Moduli, ki so vsebovani v standardnem Python jeziku."
   ]
  },
  {
   "cell_type": "markdown",
   "id": "940240b5",
   "metadata": {},
   "source": [
    "### Random\n",
    "\n",
    "Za generiranje naključnih števil."
   ]
  },
  {
   "cell_type": "code",
   "execution_count": 2,
   "id": "94442bcf",
   "metadata": {},
   "outputs": [],
   "source": [
    "import random"
   ]
  },
  {
   "cell_type": "code",
   "execution_count": 3,
   "id": "28205204",
   "metadata": {
    "collapsed": true
   },
   "outputs": [
    {
     "data": {
      "text/plain": [
       "0.5334799974281252"
      ]
     },
     "execution_count": 3,
     "metadata": {},
     "output_type": "execute_result"
    }
   ],
   "source": [
    "random.random()  # Naključno število med 0 in 1"
   ]
  },
  {
   "cell_type": "code",
   "execution_count": 9,
   "id": "f7e7ae39",
   "metadata": {
    "collapsed": true
   },
   "outputs": [
    {
     "data": {
      "text/plain": [
       "6"
      ]
     },
     "execution_count": 9,
     "metadata": {},
     "output_type": "execute_result"
    }
   ],
   "source": [
    "random.randint(1, 10)  # Naključno celo število od 1 do vključno 10"
   ]
  },
  {
   "cell_type": "code",
   "execution_count": 11,
   "id": "f83d4657",
   "metadata": {
    "collapsed": true
   },
   "outputs": [
    {
     "data": {
      "text/plain": [
       "'Urša'"
      ]
     },
     "execution_count": 11,
     "metadata": {},
     "output_type": "execute_result"
    }
   ],
   "source": [
    "seznam = [\"Jan\", \"Matija\", \"Maja\", \"Nika\", \"Urša\", \"Luka\"]\n",
    "\n",
    "random.choice(seznam)  # Naključno izbere enega iz seznama, tupla, množice"
   ]
  },
  {
   "cell_type": "markdown",
   "id": "beb82266",
   "metadata": {},
   "source": [
    "### Time\n",
    "\n",
    "Za upravljanje s časom, pretvorbe, ..."
   ]
  },
  {
   "cell_type": "code",
   "execution_count": 14,
   "id": "ffa369c2",
   "metadata": {},
   "outputs": [],
   "source": [
    "import time"
   ]
  },
  {
   "cell_type": "code",
   "execution_count": 15,
   "id": "332f5cfe",
   "metadata": {},
   "outputs": [
    {
     "data": {
      "text/plain": [
       "1652207644.9116132"
      ]
     },
     "execution_count": 15,
     "metadata": {},
     "output_type": "execute_result"
    }
   ],
   "source": [
    "time.time()  # Trenutno št. sekund od epocha"
   ]
  },
  {
   "cell_type": "code",
   "execution_count": 16,
   "id": "d15ada63",
   "metadata": {},
   "outputs": [],
   "source": [
    "time.sleep(1)  # Program \"spi\" za 1 sekundo"
   ]
  },
  {
   "cell_type": "markdown",
   "id": "a0d25fcf",
   "metadata": {},
   "source": [
    "Uporabno za merjenje časa izvajanja."
   ]
  },
  {
   "cell_type": "code",
   "execution_count": 17,
   "id": "37c1d1c3",
   "metadata": {},
   "outputs": [
    {
     "name": "stdout",
     "output_type": "stream",
     "text": [
      "Čas izvajanja: 2.5132875442504883s\n"
     ]
    }
   ],
   "source": [
    "zacetek = time.time()\n",
    "\n",
    "time.sleep(2.5)  # Spimo 2.5 sekund\n",
    "\n",
    "konec = time.time()\n",
    "\n",
    "print(f\"Čas izvajanja: {konec - zacetek}s\")"
   ]
  },
  {
   "cell_type": "markdown",
   "id": "0b9a8f13",
   "metadata": {},
   "source": [
    "### Datetime\n",
    "\n",
    "Za upravljanje z datumi."
   ]
  },
  {
   "cell_type": "code",
   "execution_count": 19,
   "id": "bccead40",
   "metadata": {},
   "outputs": [],
   "source": [
    "import datetime"
   ]
  },
  {
   "cell_type": "code",
   "execution_count": 22,
   "id": "8fd7c85d",
   "metadata": {},
   "outputs": [
    {
     "data": {
      "text/plain": [
       "datetime.datetime(2022, 5, 10, 20, 46, 2, 557060)"
      ]
     },
     "execution_count": 22,
     "metadata": {},
     "output_type": "execute_result"
    }
   ],
   "source": [
    "danes = datetime.datetime.now()  # Trenuten datum in čas\n",
    "danes"
   ]
  },
  {
   "cell_type": "code",
   "execution_count": 23,
   "id": "a00dd622",
   "metadata": {},
   "outputs": [
    {
     "data": {
      "text/plain": [
       "2022"
      ]
     },
     "execution_count": 23,
     "metadata": {},
     "output_type": "execute_result"
    }
   ],
   "source": [
    "danes.year"
   ]
  },
  {
   "cell_type": "code",
   "execution_count": 25,
   "id": "db9eb178",
   "metadata": {},
   "outputs": [
    {
     "data": {
      "text/plain": [
       "5"
      ]
     },
     "execution_count": 25,
     "metadata": {},
     "output_type": "execute_result"
    }
   ],
   "source": [
    "danes.month"
   ]
  },
  {
   "cell_type": "code",
   "execution_count": 26,
   "id": "94ca4256",
   "metadata": {},
   "outputs": [
    {
     "data": {
      "text/plain": [
       "10"
      ]
     },
     "execution_count": 26,
     "metadata": {},
     "output_type": "execute_result"
    }
   ],
   "source": [
    "danes.day"
   ]
  },
  {
   "cell_type": "code",
   "execution_count": 27,
   "id": "22d8c1d9",
   "metadata": {},
   "outputs": [
    {
     "data": {
      "text/plain": [
       "20"
      ]
     },
     "execution_count": 27,
     "metadata": {},
     "output_type": "execute_result"
    }
   ],
   "source": [
    "danes.hour"
   ]
  },
  {
   "cell_type": "markdown",
   "id": "ce4c599f",
   "metadata": {},
   "source": [
    "#### Formatting"
   ]
  },
  {
   "cell_type": "code",
   "execution_count": 30,
   "id": "49948eb1",
   "metadata": {},
   "outputs": [
    {
     "data": {
      "text/plain": [
       "'10/05/2022 20:46:02'"
      ]
     },
     "execution_count": 30,
     "metadata": {},
     "output_type": "execute_result"
    }
   ],
   "source": [
    "danes.strftime(\"%d/%m/%Y %H:%M:%S\")"
   ]
  },
  {
   "cell_type": "code",
   "execution_count": null,
   "id": "ecd9f61c",
   "metadata": {},
   "outputs": [],
   "source": []
  }
 ],
 "metadata": {
  "kernelspec": {
   "display_name": "Python 3",
   "language": "python",
   "name": "python3"
  },
  "language_info": {
   "codemirror_mode": {
    "name": "ipython",
    "version": 3
   },
   "file_extension": ".py",
   "mimetype": "text/x-python",
   "name": "python",
   "nbconvert_exporter": "python",
   "pygments_lexer": "ipython3",
   "version": "3.8.8"
  }
 },
 "nbformat": 4,
 "nbformat_minor": 5
}
